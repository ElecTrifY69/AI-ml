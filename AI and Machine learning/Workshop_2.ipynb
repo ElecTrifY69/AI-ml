{
  "nbformat": 4,
  "nbformat_minor": 0,
  "metadata": {
    "colab": {
      "provenance": []
    },
    "kernelspec": {
      "name": "python3",
      "display_name": "Python 3"
    },
    "language_info": {
      "name": "python"
    }
  },
  "cells": [
    {
      "cell_type": "markdown",
      "source": [
        "# Data Preprocessing Lab\n",
        "\n",
        "\n",
        ">To build a proper machine learning model we need clean data. However, almost all the datasets are dirty due to noise, outliers. It is also important to know the data to use the appropriate machine learning algorithm. Thus, in this exercise, we will try to explore the data, clean the data, find\n",
        "insights, and finally train machine learning models.\n",
        "\n",
        "1. There are so many data cleaning techniques, however, we will only focus on the most basic operations\n",
        "\n",
        "2. There are some questions prepared for you to answer. Please double click on those cells and answer them.\n",
        "\n",
        "3. To do this workshop you may use any IDE of your choice such as jupyter notebook, google colab or even VS code. However, it is recommended to avoid using tools that utilizes AI featuers such as auto code generation."
      ],
      "metadata": {
        "id": "8X21xVB2UGrb"
      }
    },
    {
      "cell_type": "markdown",
      "source": [
        "# Datasets Information\n",
        "\n",
        "It is very important to undertand what kind of data we are dealing with before jumping into actual coding. The following things are to be taken into consideration before EDA and Model Training :\n",
        "\n",
        "1. Understanding Data Source & Reliability\n",
        "\n",
        "2. Understanding Features & Their Role\n",
        "\n",
        "3. Ensuring Data Relevance for the Problem\n",
        "\n"
      ],
      "metadata": {
        "id": "34T5DoYZXCff"
      }
    },
    {
      "cell_type": "markdown",
      "source": [
        "## Dataset 1 : **Medical Students**\n",
        "\n",
        "* About Dataset\n",
        "\n",
        "> The dataset can be used for various purposes, including :\n",
        "\n",
        "1. Medical research and analysis to identify patterns, trends, and correlations in patient data.\n",
        "Developing predictive models for diagnosing diseases, predicting treatment outcomes, and identifying at-risk patients.\n",
        "\n",
        "2. Evaluating the effectiveness of different medical interventions and treatment protocols.\n",
        "\n",
        "3. Training machine learning algorithms for medical imaging analysis, disease classification, and patient risk stratification.\n",
        "\n",
        "> The dataset consists of the following columns:\n",
        "\n",
        "*  *StudentID:* Unique identifier for each medical student.\n",
        "\n",
        "*  *Age:* Age of the student in years.\n",
        "\n",
        "* *Gender:* Gender of the student (e.g., Male, Female).\n",
        "\n",
        "* *Height:* Height of the student in cm.\n",
        "\n",
        "* *Weight:* Weight of the student in kg.\n",
        "\n",
        "* *Blood Type:* The student's blood group (e.g., A, B, O).\n",
        "\n",
        "* *BMI:* The Body Mass Index, calculated from height and weight.\n",
        "\n",
        "* *Temperature:* The student's body temperature in degrees Celsius.\n",
        "\n",
        "* *Heart Rate:* The number of heartbeats per minute.\n",
        "\n",
        "* *Blood Pressure:* The student's systolic blood pressure measurement.\n",
        "\n",
        "* *Cholesterol:* The student's cholesterol level in mg/dL.\n",
        "\n",
        "* *Diabetes:* Indicates whether the student has diabetes (Yes/No).\n",
        "\n",
        "* *Smoking* Indicates whether the student is a smoker (Yes/No).\n"
      ],
      "metadata": {
        "id": "nTPMMF30XLLO"
      }
    },
    {
      "cell_type": "code",
      "source": [
        "# Connect Google Drive to Google Colab\n",
        "from google.colab import drive\n",
        "drive.mount('/content/drive')"
      ],
      "metadata": {
        "colab": {
          "base_uri": "https://localhost:8080/"
        },
        "id": "BPDy1eZ3xDfY",
        "outputId": "dd23c7de-bff4-45b4-9fbf-75c6acdd0237"
      },
      "execution_count": null,
      "outputs": [
        {
          "output_type": "stream",
          "name": "stdout",
          "text": [
            "Mounted at /content/drive\n"
          ]
        }
      ]
    },
    {
      "cell_type": "markdown",
      "source": [
        "# Part I"
      ],
      "metadata": {
        "id": "t-uAlhw-sJfr"
      }
    },
    {
      "cell_type": "markdown",
      "source": [
        "### 1. Import Necessary Libraries/Dependencies"
      ],
      "metadata": {
        "id": "u4lYwVbgsPQT"
      }
    },
    {
      "cell_type": "markdown",
      "source": [
        "> In the below cell, you are required to import all the necessary dependencies such as pandas, matplotlib as well as seaborn."
      ],
      "metadata": {
        "id": "dundMA7HCsOe"
      }
    },
    {
      "cell_type": "code",
      "source": [
        "# Importing the pandas library, used for data manipulation and analysis\n",
        "import pandas as pd\n",
        "# Importing the numpy library, used for numerical operations and working with arrays\n",
        "import numpy as np\n",
        "# Importing the seaborn library, used for statistical data visualization\n",
        "import seaborn as sns\n",
        "# Importing the pyplot module from matplotlib, used for creating static, interactive, and animated visualizations\n",
        "import matplotlib.pyplot as plt"
      ],
      "metadata": {
        "id": "65jduiHSsVjU"
      },
      "execution_count": null,
      "outputs": []
    },
    {
      "cell_type": "markdown",
      "source": [
        "### 2. Load our dataset"
      ],
      "metadata": {
        "id": "bkd3N5nLsxaV"
      }
    },
    {
      "cell_type": "markdown",
      "source": [
        "> In the below, cell you are required to load our dataset into a pandas dataframe."
      ],
      "metadata": {
        "id": "kTnT72RvDpnj"
      }
    },
    {
      "cell_type": "code",
      "source": [
        "# Lod the dataset (CSV file)\n",
        "df1 = pd.read_csv(\"/content/drive/MyDrive/Big Data/Workshop_2/sample_medical_students_dataset.csv\")"
      ],
      "metadata": {
        "id": "uuVzHILRsdU8"
      },
      "execution_count": null,
      "outputs": []
    },
    {
      "cell_type": "markdown",
      "source": [
        "### 3. Data Analysis"
      ],
      "metadata": {
        "id": "RBRZ4XbptBon"
      }
    },
    {
      "cell_type": "markdown",
      "source": [
        "> Print the list feature names of our loaded dataset."
      ],
      "metadata": {
        "id": "JT12B-yFD55M"
      }
    },
    {
      "cell_type": "code",
      "source": [
        "# Get column names of the DataFrame\n",
        "print(df1.columns.tolist())"
      ],
      "metadata": {
        "id": "JQyf37cWuWJq",
        "colab": {
          "base_uri": "https://localhost:8080/"
        },
        "outputId": "5de5595f-f647-4eda-8879-856b861570f7"
      },
      "execution_count": null,
      "outputs": [
        {
          "output_type": "stream",
          "name": "stdout",
          "text": [
            "['Student ID', 'Age', 'Gender', 'Height', 'Weight', 'Blood Type', 'BMI', 'Temperature', 'Heart Rate', 'Blood Pressure', 'Cholesterol', 'Diabetes', 'Smoking']\n"
          ]
        }
      ]
    },
    {
      "cell_type": "markdown",
      "source": [
        "> Print the shape of our dataset (number of rows and columns)"
      ],
      "metadata": {
        "id": "T9l3DQaxEipf"
      }
    },
    {
      "cell_type": "code",
      "source": [
        "# Check the shape of our dataset\n",
        "print(\"Dataset Shapes\", df1.shape)"
      ],
      "metadata": {
        "id": "VrVdtPIIqwuc",
        "colab": {
          "base_uri": "https://localhost:8080/"
        },
        "outputId": "62cc0f65-bdf0-4c8d-816b-30eece445f55"
      },
      "execution_count": null,
      "outputs": [
        {
          "output_type": "stream",
          "name": "stdout",
          "text": [
            "Dataset Shapes (50000, 13)\n"
          ]
        }
      ]
    },
    {
      "cell_type": "markdown",
      "source": [
        "> Display the first 5 rows of our dataset. *Hint : head() method*"
      ],
      "metadata": {
        "id": "rVasySUIFLCy"
      }
    },
    {
      "cell_type": "code",
      "source": [
        "print(df1.head())"
      ],
      "metadata": {
        "id": "pgxTTKpcudEK",
        "colab": {
          "base_uri": "https://localhost:8080/"
        },
        "outputId": "4bbd6e3b-83fa-46e2-f516-f4b54cd07512"
      },
      "execution_count": null,
      "outputs": [
        {
          "output_type": "stream",
          "name": "stdout",
          "text": [
            "   Student ID   Age  Gender      Height     Weight Blood Type        BMI  \\\n",
            "0     48419.0  34.0    Male  172.793930  43.761668          O  14.656724   \n",
            "1     64979.0  25.0  Female  155.370924  53.658217         AB  22.227813   \n",
            "2     37531.0  24.0    Male  177.065466  41.897201          B  13.363410   \n",
            "3     36473.0  34.0    Male  187.403636  83.172918         AB  23.682411   \n",
            "4     13960.0  29.0    Male         NaN  92.665678         AB  35.423958   \n",
            "\n",
            "   Temperature  Heart Rate  Blood Pressure  Cholesterol Diabetes Smoking  \n",
            "0    99.080335        92.0           118.0        167.0      Yes      No  \n",
            "1    98.238156        67.0            98.0        124.0       No      No  \n",
            "2    99.243096        79.0           126.0        223.0       No     Yes  \n",
            "3    98.462143        65.0            95.0        160.0       No      No  \n",
            "4    98.450508        75.0           111.0        163.0       No      No  \n"
          ]
        }
      ]
    },
    {
      "cell_type": "markdown",
      "source": [
        "> Display 5 random rows of our dataset. *Hint : sample() method*"
      ],
      "metadata": {
        "id": "5H-rssNcFf68"
      }
    },
    {
      "cell_type": "code",
      "source": [
        "print(df1.sample(5))"
      ],
      "metadata": {
        "id": "oEqG3M2vuqjj",
        "colab": {
          "base_uri": "https://localhost:8080/"
        },
        "outputId": "3bdbc711-2f76-4b59-9e28-d4a298f40d19"
      },
      "execution_count": null,
      "outputs": [
        {
          "output_type": "stream",
          "name": "stdout",
          "text": [
            "       Student ID   Age  Gender      Height     Weight Blood Type        BMI  \\\n",
            "13574     18945.0  24.0  Female  155.123830  95.326925          A  39.614899   \n",
            "43879     25021.0  22.0  Female  152.925311  56.158788          O  24.013694   \n",
            "29672     36705.0  34.0  Female  179.214906  47.567597          O  14.810269   \n",
            "34659     58906.0  30.0  Female  166.989270  59.150250          B  21.211894   \n",
            "33770     37730.0  21.0     NaN  150.142848  83.001812          O  36.819533   \n",
            "\n",
            "       Temperature  Heart Rate  Blood Pressure  Cholesterol Diabetes Smoking  \n",
            "13574    98.956689        82.0           111.0        173.0       No      No  \n",
            "43879    99.137653        72.0           127.0        175.0       No      No  \n",
            "29672    99.368135        94.0           103.0        180.0      Yes      No  \n",
            "34659    98.635884        80.0           100.0        224.0       No     NaN  \n",
            "33770    98.567698        70.0           123.0        245.0       No      No  \n"
          ]
        }
      ]
    },
    {
      "cell_type": "markdown",
      "source": [
        "> Check datatypes of each columns. *Hint : dtypes*"
      ],
      "metadata": {
        "id": "9_KtsNZqGbPA"
      }
    },
    {
      "cell_type": "code",
      "source": [
        "print(df1.dtypes)"
      ],
      "metadata": {
        "id": "tfqu3Dke9Z46",
        "colab": {
          "base_uri": "https://localhost:8080/"
        },
        "outputId": "6276a4ee-e116-43e8-c184-d597a0ee77d6"
      },
      "execution_count": null,
      "outputs": [
        {
          "output_type": "stream",
          "name": "stdout",
          "text": [
            "Student ID        float64\n",
            "Age               float64\n",
            "Gender             object\n",
            "Height            float64\n",
            "Weight            float64\n",
            "Blood Type         object\n",
            "BMI               float64\n",
            "Temperature       float64\n",
            "Heart Rate        float64\n",
            "Blood Pressure    float64\n",
            "Cholesterol       float64\n",
            "Diabetes           object\n",
            "Smoking            object\n",
            "dtype: object\n"
          ]
        }
      ]
    },
    {
      "cell_type": "markdown",
      "source": [
        "> How many of our features are numerical and categorical ? Write a python code to fill the below 2 empty lists.\n",
        "\n",
        "* num_cols : should contain name of columns with numerical data type.\n",
        "\n",
        "* cat_cols : should contain name of columns with categorical data type.\n"
      ],
      "metadata": {
        "id": "pWcI_dzS9qyp"
      }
    },
    {
      "cell_type": "code",
      "source": [
        "num_cols = df1.select_dtypes(include=['int64', 'float64']).columns.tolist()\n",
        "cat_cols = df1.select_dtypes(include=['object']).columns.tolist()\n",
        "\n",
        "# Print results\n",
        "print(\"Numerical Columns:\", num_cols)\n",
        "print(\"Categorical Columns:\", cat_cols)\n"
      ],
      "metadata": {
        "id": "7RBPauD21T4K",
        "colab": {
          "base_uri": "https://localhost:8080/"
        },
        "outputId": "fa1169b6-2a54-48b9-ba11-b645a0ca14d8"
      },
      "execution_count": null,
      "outputs": [
        {
          "output_type": "stream",
          "name": "stdout",
          "text": [
            "Numerical Columns: ['Student ID', 'Age', 'Height', 'Weight', 'BMI', 'Temperature', 'Heart Rate', 'Blood Pressure', 'Cholesterol']\n",
            "Categorical Columns: ['Gender', 'Blood Type', 'Diabetes', 'Smoking']\n"
          ]
        }
      ]
    },
    {
      "cell_type": "code",
      "source": [
        "print(\"Numerical columns : \", num_cols)\n",
        "print(\"Categorical columns : \", cat_cols)\n",
        "print(\"Number of numerical columns : \", len(num_cols))\n",
        "print(\"Number of categorcal columns : \", len(cat_cols))"
      ],
      "metadata": {
        "id": "GPVuMCww1-ka",
        "colab": {
          "base_uri": "https://localhost:8080/"
        },
        "outputId": "1a999ad6-1866-4058-ae3a-5b71404c72a0"
      },
      "execution_count": null,
      "outputs": [
        {
          "output_type": "stream",
          "name": "stdout",
          "text": [
            "Numerical columns :  ['Student ID', 'Age', 'Height', 'Weight', 'BMI', 'Temperature', 'Heart Rate', 'Blood Pressure', 'Cholesterol']\n",
            "Categorical columns :  ['Gender', 'Blood Type', 'Diabetes', 'Smoking']\n",
            "Number of numerical columns :  9\n",
            "Number of categorcal columns :  4\n"
          ]
        }
      ]
    },
    {
      "cell_type": "markdown",
      "source": [
        "> Generate summary statistics our data that includes measurements like count, mean, standard deviation, minimum, maximum, and quartiles. *Hint : describe() method*"
      ],
      "metadata": {
        "id": "AQ8FP11CNFY3"
      }
    },
    {
      "cell_type": "code",
      "source": [
        "# Print some statistical measurements of our numerical columns\n",
        "print(df1.describe())"
      ],
      "metadata": {
        "id": "aeO88kUfqDx4",
        "colab": {
          "base_uri": "https://localhost:8080/"
        },
        "outputId": "a5e6ba00-7006-4e69-a7e9-8529bf1a90a9"
      },
      "execution_count": null,
      "outputs": [
        {
          "output_type": "stream",
          "name": "stdout",
          "text": [
            "         Student ID           Age        Height        Weight           BMI  \\\n",
            "count  50000.000000  49934.000000  48752.000000  50000.000000  50000.000000   \n",
            "mean   49835.464140     26.028578    174.898147     69.992555     23.365428   \n",
            "std    28801.118493      4.883655     14.429881     17.310689      7.063461   \n",
            "min        2.000000     18.000000    150.002125     40.000718     10.074837   \n",
            "25%    24825.750000     22.000000    162.511419     54.976175     17.840544   \n",
            "50%    49751.500000     26.000000    174.782445     70.073127     22.715855   \n",
            "75%    74715.250000     30.000000    187.456113     85.007916     28.063988   \n",
            "max    99999.000000     34.000000    199.998639     99.997668     44.355113   \n",
            "\n",
            "        Temperature    Heart Rate  Blood Pressure   Cholesterol  \n",
            "count  50000.000000  48362.000000    50000.000000  50000.000000  \n",
            "mean      98.599156     79.513440      114.526160    184.268900  \n",
            "std        0.499875     11.518227       14.372229     37.692965  \n",
            "min       96.397835     60.000000       90.000000    120.000000  \n",
            "25%       98.262937     70.000000      102.000000    152.000000  \n",
            "50%       98.598631     79.000000      115.000000    184.000000  \n",
            "75%       98.940004     89.000000      127.000000    217.000000  \n",
            "max      100.773765     99.000000      139.000000    249.000000  \n"
          ]
        }
      ]
    },
    {
      "cell_type": "markdown",
      "source": [
        "> For categorical columns, we will check how many unique classes they have and how frequently each class appears in the dataset."
      ],
      "metadata": {
        "id": "oer83t8fO13h"
      }
    },
    {
      "cell_type": "markdown",
      "source": [
        "> Below is an example of one categorical class - Gender"
      ],
      "metadata": {
        "id": "zcE2im5DPMBO"
      }
    },
    {
      "cell_type": "code",
      "source": [
        "# Count the occurrences of each unique value in the 'Gender' column of the DataFrame 'df1'\n",
        "df1['Gender'].value_counts()"
      ],
      "metadata": {
        "colab": {
          "base_uri": "https://localhost:8080/",
          "height": 178
        },
        "id": "ZZAx03alPSeB",
        "outputId": "b8cb9484-8dad-44ad-e7ab-65645b3ba4ca"
      },
      "execution_count": null,
      "outputs": [
        {
          "output_type": "execute_result",
          "data": {
            "text/plain": [
              "Gender\n",
              "Female    24481\n",
              "Male      24411\n",
              "Name: count, dtype: int64"
            ],
            "text/html": [
              "<div>\n",
              "<style scoped>\n",
              "    .dataframe tbody tr th:only-of-type {\n",
              "        vertical-align: middle;\n",
              "    }\n",
              "\n",
              "    .dataframe tbody tr th {\n",
              "        vertical-align: top;\n",
              "    }\n",
              "\n",
              "    .dataframe thead th {\n",
              "        text-align: right;\n",
              "    }\n",
              "</style>\n",
              "<table border=\"1\" class=\"dataframe\">\n",
              "  <thead>\n",
              "    <tr style=\"text-align: right;\">\n",
              "      <th></th>\n",
              "      <th>count</th>\n",
              "    </tr>\n",
              "    <tr>\n",
              "      <th>Gender</th>\n",
              "      <th></th>\n",
              "    </tr>\n",
              "  </thead>\n",
              "  <tbody>\n",
              "    <tr>\n",
              "      <th>Female</th>\n",
              "      <td>24481</td>\n",
              "    </tr>\n",
              "    <tr>\n",
              "      <th>Male</th>\n",
              "      <td>24411</td>\n",
              "    </tr>\n",
              "  </tbody>\n",
              "</table>\n",
              "</div><br><label><b>dtype:</b> int64</label>"
            ]
          },
          "metadata": {},
          "execution_count": 12
        }
      ]
    },
    {
      "cell_type": "markdown",
      "source": [
        "> Similarly do for the other categorical columns. *Hint : You might wana use the list you created for storing the categorical columns*"
      ],
      "metadata": {
        "id": "y38LX6nwPW47"
      }
    },
    {
      "cell_type": "code",
      "source": [
        "df1['Blood Type'].value_counts()"
      ],
      "metadata": {
        "colab": {
          "base_uri": "https://localhost:8080/",
          "height": 241
        },
        "id": "Qo3O1luBec4M",
        "outputId": "36350431-8957-41ee-8ea0-bff9c1636506"
      },
      "execution_count": null,
      "outputs": [
        {
          "output_type": "execute_result",
          "data": {
            "text/plain": [
              "Blood Type\n",
              "B     12709\n",
              "O     12562\n",
              "A     12463\n",
              "AB    12266\n",
              "Name: count, dtype: int64"
            ],
            "text/html": [
              "<div>\n",
              "<style scoped>\n",
              "    .dataframe tbody tr th:only-of-type {\n",
              "        vertical-align: middle;\n",
              "    }\n",
              "\n",
              "    .dataframe tbody tr th {\n",
              "        vertical-align: top;\n",
              "    }\n",
              "\n",
              "    .dataframe thead th {\n",
              "        text-align: right;\n",
              "    }\n",
              "</style>\n",
              "<table border=\"1\" class=\"dataframe\">\n",
              "  <thead>\n",
              "    <tr style=\"text-align: right;\">\n",
              "      <th></th>\n",
              "      <th>count</th>\n",
              "    </tr>\n",
              "    <tr>\n",
              "      <th>Blood Type</th>\n",
              "      <th></th>\n",
              "    </tr>\n",
              "  </thead>\n",
              "  <tbody>\n",
              "    <tr>\n",
              "      <th>B</th>\n",
              "      <td>12709</td>\n",
              "    </tr>\n",
              "    <tr>\n",
              "      <th>O</th>\n",
              "      <td>12562</td>\n",
              "    </tr>\n",
              "    <tr>\n",
              "      <th>A</th>\n",
              "      <td>12463</td>\n",
              "    </tr>\n",
              "    <tr>\n",
              "      <th>AB</th>\n",
              "      <td>12266</td>\n",
              "    </tr>\n",
              "  </tbody>\n",
              "</table>\n",
              "</div><br><label><b>dtype:</b> int64</label>"
            ]
          },
          "metadata": {},
          "execution_count": 13
        }
      ]
    },
    {
      "cell_type": "code",
      "source": [
        "df1['Diabetes'].value_counts()"
      ],
      "metadata": {
        "colab": {
          "base_uri": "https://localhost:8080/",
          "height": 178
        },
        "id": "Hv1pK68benvS",
        "outputId": "448694cd-a8aa-4e31-d6e6-6b8993cc68ab"
      },
      "execution_count": null,
      "outputs": [
        {
          "output_type": "execute_result",
          "data": {
            "text/plain": [
              "Diabetes\n",
              "No     45067\n",
              "Yes     4933\n",
              "Name: count, dtype: int64"
            ],
            "text/html": [
              "<div>\n",
              "<style scoped>\n",
              "    .dataframe tbody tr th:only-of-type {\n",
              "        vertical-align: middle;\n",
              "    }\n",
              "\n",
              "    .dataframe tbody tr th {\n",
              "        vertical-align: top;\n",
              "    }\n",
              "\n",
              "    .dataframe thead th {\n",
              "        text-align: right;\n",
              "    }\n",
              "</style>\n",
              "<table border=\"1\" class=\"dataframe\">\n",
              "  <thead>\n",
              "    <tr style=\"text-align: right;\">\n",
              "      <th></th>\n",
              "      <th>count</th>\n",
              "    </tr>\n",
              "    <tr>\n",
              "      <th>Diabetes</th>\n",
              "      <th></th>\n",
              "    </tr>\n",
              "  </thead>\n",
              "  <tbody>\n",
              "    <tr>\n",
              "      <th>No</th>\n",
              "      <td>45067</td>\n",
              "    </tr>\n",
              "    <tr>\n",
              "      <th>Yes</th>\n",
              "      <td>4933</td>\n",
              "    </tr>\n",
              "  </tbody>\n",
              "</table>\n",
              "</div><br><label><b>dtype:</b> int64</label>"
            ]
          },
          "metadata": {},
          "execution_count": 14
        }
      ]
    },
    {
      "cell_type": "code",
      "source": [
        "df1['Smoking'].value_counts()"
      ],
      "metadata": {
        "colab": {
          "base_uri": "https://localhost:8080/",
          "height": 178
        },
        "id": "C0tAIYJVexIy",
        "outputId": "73125cfa-8d40-4ed3-d537-cd7884be67d2"
      },
      "execution_count": null,
      "outputs": [
        {
          "output_type": "execute_result",
          "data": {
            "text/plain": [
              "Smoking\n",
              "No     39266\n",
              "Yes     9785\n",
              "Name: count, dtype: int64"
            ],
            "text/html": [
              "<div>\n",
              "<style scoped>\n",
              "    .dataframe tbody tr th:only-of-type {\n",
              "        vertical-align: middle;\n",
              "    }\n",
              "\n",
              "    .dataframe tbody tr th {\n",
              "        vertical-align: top;\n",
              "    }\n",
              "\n",
              "    .dataframe thead th {\n",
              "        text-align: right;\n",
              "    }\n",
              "</style>\n",
              "<table border=\"1\" class=\"dataframe\">\n",
              "  <thead>\n",
              "    <tr style=\"text-align: right;\">\n",
              "      <th></th>\n",
              "      <th>count</th>\n",
              "    </tr>\n",
              "    <tr>\n",
              "      <th>Smoking</th>\n",
              "      <th></th>\n",
              "    </tr>\n",
              "  </thead>\n",
              "  <tbody>\n",
              "    <tr>\n",
              "      <th>No</th>\n",
              "      <td>39266</td>\n",
              "    </tr>\n",
              "    <tr>\n",
              "      <th>Yes</th>\n",
              "      <td>9785</td>\n",
              "    </tr>\n",
              "  </tbody>\n",
              "</table>\n",
              "</div><br><label><b>dtype:</b> int64</label>"
            ]
          },
          "metadata": {},
          "execution_count": 15
        }
      ]
    },
    {
      "cell_type": "code",
      "source": [
        "print(df1[cat_cols].describe())"
      ],
      "metadata": {
        "id": "FExcMR_50z8Q",
        "colab": {
          "base_uri": "https://localhost:8080/"
        },
        "outputId": "26857c9f-e659-403b-ac39-c3c00f236bae"
      },
      "execution_count": null,
      "outputs": [
        {
          "output_type": "stream",
          "name": "stdout",
          "text": [
            "        Gender Blood Type Diabetes Smoking\n",
            "count    48892      50000    50000   49051\n",
            "unique       2          4        2       2\n",
            "top     Female          B       No      No\n",
            "freq     24481      12709    45067   39266\n"
          ]
        }
      ]
    },
    {
      "cell_type": "markdown",
      "source": [
        "### 4. Cleaning Data"
      ],
      "metadata": {
        "id": "nVhocRoq45UD"
      }
    },
    {
      "cell_type": "markdown",
      "source": [
        "> Removing column 'Student ID' as it's not relevant for our analysis or modeling"
      ],
      "metadata": {
        "id": "r0ifCTKePv47"
      }
    },
    {
      "cell_type": "code",
      "source": [
        "# remove student Id column as it's not relevant for our analysis or modeling\n",
        "df1.drop(columns=[\"Student ID\"], inplace=True)"
      ],
      "metadata": {
        "id": "Y8EuszEGfF5i"
      },
      "execution_count": null,
      "outputs": []
    },
    {
      "cell_type": "code",
      "source": [
        "print(df1.columns)\n"
      ],
      "metadata": {
        "colab": {
          "base_uri": "https://localhost:8080/"
        },
        "id": "POM2vwrSdrq0",
        "outputId": "52664c5f-609e-44e4-85ff-769761664da6"
      },
      "execution_count": null,
      "outputs": [
        {
          "output_type": "stream",
          "name": "stdout",
          "text": [
            "Index(['Age', 'Gender', 'Height', 'Weight', 'Blood Type', 'BMI', 'Temperature',\n",
            "       'Heart Rate', 'Blood Pressure', 'Cholesterol', 'Diabetes', 'Smoking'],\n",
            "      dtype='object')\n"
          ]
        }
      ]
    },
    {
      "cell_type": "markdown",
      "source": [
        "> Check how many rows are duplicated. *Hint : duplicated() and sum() method*"
      ],
      "metadata": {
        "id": "y5ddNU-pQ3R3"
      }
    },
    {
      "cell_type": "code",
      "source": [
        "# check for duplicate data\n",
        "num_duplicates = df1.duplicated().sum()\n",
        "print(\"Number of duplicated rows:\", num_duplicates)"
      ],
      "metadata": {
        "id": "xGsDKQnauH-G",
        "colab": {
          "base_uri": "https://localhost:8080/"
        },
        "outputId": "181a3619-239e-48b0-84fa-bf28e72b7c14"
      },
      "execution_count": null,
      "outputs": [
        {
          "output_type": "stream",
          "name": "stdout",
          "text": [
            "Number of duplicated rows: 5146\n"
          ]
        }
      ]
    },
    {
      "cell_type": "markdown",
      "source": [
        "> Drop duplicate rows. *Hint : drop_duplicates() method*"
      ],
      "metadata": {
        "id": "u-B_7C5QQ-Jv"
      }
    },
    {
      "cell_type": "code",
      "source": [
        "# drop duplicate rows\n",
        "print(f\"Rows before removing duplicates: {df1.shape[0]}\")\n",
        "df1 = df1.drop_duplicates()\n",
        "print(f\"Rows after removing duplicates: {df1.shape[0]}\")"
      ],
      "metadata": {
        "id": "IpAP_sx2JxcI",
        "colab": {
          "base_uri": "https://localhost:8080/"
        },
        "outputId": "2d5db71e-6421-4e59-8569-2e4ed83c52bb"
      },
      "execution_count": null,
      "outputs": [
        {
          "output_type": "stream",
          "name": "stdout",
          "text": [
            "Rows before removing duplicates: 50000\n",
            "Rows after removing duplicates: 44854\n"
          ]
        }
      ]
    },
    {
      "cell_type": "markdown",
      "source": [
        "> Check for null data. *Hint : isnull() and sum() method*"
      ],
      "metadata": {
        "id": "KD0JqjeSRVwN"
      }
    },
    {
      "cell_type": "code",
      "source": [
        "# Check for null data\n",
        "null_counts = df1.isnull().sum()\n",
        "\n",
        "# Print the count of null values for each column\n",
        "print(\"Null value counts per column:\")\n",
        "print(null_counts)"
      ],
      "metadata": {
        "id": "qcjdFOay4Pj5",
        "colab": {
          "base_uri": "https://localhost:8080/"
        },
        "outputId": "138252e7-c580-4c65-c727-19c8d48145e0"
      },
      "execution_count": null,
      "outputs": [
        {
          "output_type": "stream",
          "name": "stdout",
          "text": [
            "Null value counts per column:\n",
            "Age                 66\n",
            "Gender            1106\n",
            "Height            1247\n",
            "Weight               0\n",
            "Blood Type           0\n",
            "BMI                  0\n",
            "Temperature          0\n",
            "Heart Rate        1636\n",
            "Blood Pressure       0\n",
            "Cholesterol          0\n",
            "Diabetes             0\n",
            "Smoking            947\n",
            "dtype: int64\n"
          ]
        }
      ]
    },
    {
      "cell_type": "markdown",
      "source": [
        "> If null data are found we need to handle them accordingly. we can consider applying one of the below approaches:\n",
        "\n",
        "\n",
        "1. Remove Rows with Missing Values\n",
        "\n",
        "2. Fill Missing Values with mean, meadian or mode."
      ],
      "metadata": {
        "id": "AcQRObBlRgse"
      }
    },
    {
      "cell_type": "markdown",
      "source": [
        "> *However, to complete this workshop you are required to take the second approach which means filling the null values with mean or median if the column is numerical or mode if it is categorical.*"
      ],
      "metadata": {
        "id": "9lk4QiOE-37h"
      }
    },
    {
      "cell_type": "markdown",
      "source": [
        "**Note :** We use the mean to fill missing values in numerical columns when there are no outliers. If the column contains outliers, we use the median instead, as it is less affected by extreme values."
      ],
      "metadata": {
        "id": "LIyskDmkVTsZ"
      }
    },
    {
      "cell_type": "code",
      "source": [
        "# example code to fill null values with mean\n",
        "df1.loc[:, 'Age'] = df1['Age'].fillna(df1['Age'].median())\n",
        "df1['Age'].isnull().sum()"
      ],
      "metadata": {
        "colab": {
          "base_uri": "https://localhost:8080/"
        },
        "id": "LpfShKXlVN3T",
        "outputId": "de2507c0-93b3-4818-ec22-2c88ba331e21"
      },
      "execution_count": null,
      "outputs": [
        {
          "output_type": "execute_result",
          "data": {
            "text/plain": [
              "0"
            ]
          },
          "metadata": {},
          "execution_count": 22
        }
      ]
    },
    {
      "cell_type": "markdown",
      "source": [
        "> Similarly do it for other columns cotaining null data"
      ],
      "metadata": {
        "id": "xsjBvAWGXmm4"
      }
    },
    {
      "cell_type": "code",
      "source": [
        "# filling null values for numerical columns\n",
        "for col in ['Height', 'Heart Rate']:\n",
        "    df1[col] = df1[col].fillna(df1[col].median())"
      ],
      "metadata": {
        "id": "6M1iNWu4khk9"
      },
      "execution_count": null,
      "outputs": []
    },
    {
      "cell_type": "code",
      "source": [
        "# filling null values for categorical columns\n",
        "for col in ['Gender', 'Smoking']:\n",
        "    df1[col] = df1[col].fillna(df1[col].mode()[0])"
      ],
      "metadata": {
        "id": "7XfwuhOWk8qp"
      },
      "execution_count": null,
      "outputs": []
    },
    {
      "cell_type": "code",
      "source": [
        "# Check for null data\n",
        "print(df1.isnull().sum())"
      ],
      "metadata": {
        "id": "CdxWtAg7m-4Y",
        "colab": {
          "base_uri": "https://localhost:8080/"
        },
        "outputId": "17aded5b-823c-4791-b2dc-16dbbfe112b0"
      },
      "execution_count": null,
      "outputs": [
        {
          "output_type": "stream",
          "name": "stdout",
          "text": [
            "Age               0\n",
            "Gender            0\n",
            "Height            0\n",
            "Weight            0\n",
            "Blood Type        0\n",
            "BMI               0\n",
            "Temperature       0\n",
            "Heart Rate        0\n",
            "Blood Pressure    0\n",
            "Cholesterol       0\n",
            "Diabetes          0\n",
            "Smoking           0\n",
            "dtype: int64\n"
          ]
        }
      ]
    },
    {
      "cell_type": "markdown",
      "source": [
        "> Check for outliers in numerical columns"
      ],
      "metadata": {
        "id": "K2d0-iGIN-rI"
      }
    },
    {
      "cell_type": "markdown",
      "source": [
        "* Outliers are data points that significantly differ from the rest of the dataset. They are unusually high or low values that do not follow the general pattern of the data.\n",
        "\n",
        "* For example, in a dataset of students' heights, if most students are between 150 cm and 180 cm, but there is a student with a height of 250 cm, that is likely an outlier.\n",
        "\n",
        "* Outliers needs to be handled as they can negatively impact machine learning models and statistical analysis.\n",
        "\n",
        "* There are 3 approches we can take to identify outliers:\n",
        "\n",
        "  1. Using Boxplots (Visualization)\n",
        "\n",
        "  2. Using IQR (Interquartile Range)\n",
        "\n",
        "  3. Using Z-score (Standard Deviation)\n"
      ],
      "metadata": {
        "id": "VeGE9vErTxo_"
      }
    },
    {
      "cell_type": "markdown",
      "source": [
        "> For this workshop we are going to use the **IQR method** to detect outliers."
      ],
      "metadata": {
        "id": "DymN75uKVMwO"
      }
    },
    {
      "cell_type": "code",
      "source": [
        "num_cols.remove(\"Student ID\") # Removing 'Student ID' from the list.\n",
        "\n",
        "# Function to detect outliers using IQR\n",
        "def detect_outliers_iqr(df, columns):\n",
        "    outliers = {}\n",
        "    for col in columns:\n",
        "        Q1 = df[col].quantile(0.25)  # First quartile (25%)\n",
        "        Q3 = df[col].quantile(0.75)  # Third quartile (75%)\n",
        "        IQR = Q3 - Q1  # Interquartile range\n",
        "        lower_bound = Q1 - 1.5 * IQR\n",
        "        upper_bound = Q3 + 1.5 * IQR\n",
        "        outlier_count = ((df[col] < lower_bound) | (df[col] > upper_bound)).sum()\n",
        "        outliers[col] = outlier_count\n",
        "    return outliers\n",
        "\n",
        "# Detect outliers\n",
        "outliers_iqr = detect_outliers_iqr(df1, columns=num_cols)\n",
        "\n",
        "# Print number of outliers in each numerical column\n",
        "print(\"Outliers detected using IQR method:\")\n",
        "for col, count in outliers_iqr.items():\n",
        "    print(f\"{col}: {count} outliers\")"
      ],
      "metadata": {
        "colab": {
          "base_uri": "https://localhost:8080/"
        },
        "id": "7p2tb2ddSpeE",
        "outputId": "93d3a48e-26f1-4289-ba1c-2261e9711a0a"
      },
      "execution_count": null,
      "outputs": [
        {
          "output_type": "stream",
          "name": "stdout",
          "text": [
            "Outliers detected using IQR method:\n",
            "Age: 0 outliers\n",
            "Height: 0 outliers\n",
            "Weight: 0 outliers\n",
            "BMI: 36 outliers\n",
            "Temperature: 305 outliers\n",
            "Heart Rate: 0 outliers\n",
            "Blood Pressure: 0 outliers\n",
            "Cholesterol: 0 outliers\n"
          ]
        }
      ]
    },
    {
      "cell_type": "markdown",
      "source": [
        "> Since BMI and Temperature have outliers, we can handle them by replacing outliers with the nearest valid values (min/max limits from IQR)"
      ],
      "metadata": {
        "id": "NfqmCPCBWHF3"
      }
    },
    {
      "cell_type": "code",
      "source": [
        "# Function to replace outliers with min/max based on IQR\n",
        "def replace_outliers_with_min_max(df, column):\n",
        "    Q1 = df[column].quantile(0.25)  # First quartile (25%)\n",
        "    Q3 = df[column].quantile(0.75)  # Third quartile (75%)\n",
        "    IQR = Q3 - Q1  # Interquartile range\n",
        "    lower_bound = Q1 - 1.5 * IQR\n",
        "    upper_bound = Q3 + 1.5 * IQR\n",
        "\n",
        "    # Replace lower outliers with the minimum valid value\n",
        "    df[column] = np.where(df[column] < lower_bound, lower_bound, df[column])\n",
        "\n",
        "    # Replace upper outliers with the maximum valid value\n",
        "    df[column] = np.where(df[column] > upper_bound, upper_bound, df[column])"
      ],
      "metadata": {
        "id": "xSQB_97bWRPO"
      },
      "execution_count": null,
      "outputs": []
    },
    {
      "cell_type": "markdown",
      "source": [
        "> Handle the outliers. *Hint : use the above replace_outliers_with_min_max() function*"
      ],
      "metadata": {
        "id": "YpMwy1VRI0RZ"
      }
    },
    {
      "cell_type": "code",
      "source": [
        "# Apply to columns which have outliers\n",
        "columns_with_outliers = ['BMI', 'Temperature']\n",
        "\n",
        "for col in columns_with_outliers:\n",
        "    replace_outliers_with_min_max(df1, col)\n",
        "\n",
        "# Check if outliers are handled\n",
        "outliers_after_replacement = detect_outliers_iqr(df1, columns=columns_with_outliers)\n",
        "print(\"Outliers after replacement using IQR method:\")\n",
        "print(outliers_after_replacement)"
      ],
      "metadata": {
        "id": "VML2oXKmIxsp",
        "colab": {
          "base_uri": "https://localhost:8080/"
        },
        "outputId": "4856d414-edec-4ad5-f7d3-3605208ee006"
      },
      "execution_count": null,
      "outputs": [
        {
          "output_type": "stream",
          "name": "stdout",
          "text": [
            "Outliers after replacement using IQR method:\n",
            "{'BMI': 0, 'Temperature': 0}\n"
          ]
        }
      ]
    },
    {
      "cell_type": "code",
      "source": [
        "# Again check for outliers\n",
        "outliers_iqr = detect_outliers_iqr(df1, columns=num_cols)\n",
        "# Print number of outliers in each numerical column\n",
        "print(\"Outliers detected using IQR method:\")\n",
        "for col, count in outliers_iqr.items():\n",
        "    print(f\"{col}: {count} outliers\")"
      ],
      "metadata": {
        "id": "u7HJEaSpW54u",
        "colab": {
          "base_uri": "https://localhost:8080/"
        },
        "outputId": "e575828d-caef-4fbe-a129-ca6678083cd9"
      },
      "execution_count": null,
      "outputs": [
        {
          "output_type": "stream",
          "name": "stdout",
          "text": [
            "Outliers detected using IQR method:\n",
            "Age: 0 outliers\n",
            "Height: 0 outliers\n",
            "Weight: 0 outliers\n",
            "BMI: 0 outliers\n",
            "Temperature: 0 outliers\n",
            "Heart Rate: 0 outliers\n",
            "Blood Pressure: 0 outliers\n",
            "Cholesterol: 0 outliers\n"
          ]
        }
      ]
    },
    {
      "cell_type": "markdown",
      "source": [
        "### 5. Data Visualisation"
      ],
      "metadata": {
        "id": "dUta0IbALRL5"
      }
    },
    {
      "cell_type": "markdown",
      "source": [
        "**Histogram of Age**\n",
        "\n",
        "* A histogram is a graphical representation of the distribution of a dataset.\n",
        "* It displays the frequency or count of data points that fall within certain ranges or bins.\n",
        "* A histogram shows us the frequency distribution of continuous variables."
      ],
      "metadata": {
        "id": "sVlwylTaL-KP"
      }
    },
    {
      "cell_type": "code",
      "source": [
        "# Histogram for Age\n",
        "plt.hist(df1['Age'], bins=10, color='skyblue', edgecolor='black')\n",
        "plt.title('Distribution of Age')\n",
        "plt.xlabel('Age')\n",
        "plt.ylabel('Frequency')\n",
        "plt.show()"
      ],
      "metadata": {
        "id": "bHhNIUajL9L3",
        "colab": {
          "base_uri": "https://localhost:8080/",
          "height": 472
        },
        "outputId": "68bc29b4-befd-4b65-f88d-5acdf6b9431c"
      },
      "execution_count": null,
      "outputs": [
        {
          "output_type": "display_data",
          "data": {
            "text/plain": [
              "<Figure size 640x480 with 1 Axes>"
            ],
            "image/png": "[encoded data removed]"
          },
          "metadata": {}
        }
      ]
    },
    {
      "cell_type": "markdown",
      "source": [
        "> What is the most common age range (peak of the histogram) ?\n",
        "\n",
        "> Answer : Based on the histogram, there are multiple peaks. The histogram’s x-axis shows ages from 18 to 34 using 10 bins, and the highest bars, all reaching about 6000, correspond to the following age ranges:\n",
        "\n",
        "*   18–20\n",
        "*   24–26\n",
        "*   26–28"
      ],
      "metadata": {
        "id": "DR4_MKW_PkJb"
      }
    },
    {
      "cell_type": "markdown",
      "source": [
        "**Bar Plot for Gender Count**\n",
        "\n",
        "* Bar plots are used to represent categorical data with rectangular bars, where the length or height of each bar is proportional to the value of the category it represents.\n",
        "\n",
        "* They are ideal for comparing different categories (e.g., counts of different genders, countries, or product sales)."
      ],
      "metadata": {
        "id": "YJQZX8FlMPs2"
      }
    },
    {
      "cell_type": "code",
      "source": [
        "# Bar plot for Gender\n",
        "gender_counts = df1['Gender'].value_counts()\n",
        "plt.bar(gender_counts.index, gender_counts.values, color=['skyblue', 'salmon'])\n",
        "plt.title('Gender Distribution')\n",
        "plt.xlabel('Gender')\n",
        "plt.ylabel('Count')\n",
        "plt.show()"
      ],
      "metadata": {
        "id": "BywDSjjqMR1O",
        "colab": {
          "base_uri": "https://localhost:8080/",
          "height": 472
        },
        "outputId": "fbec25e0-3e3a-43d5-94d2-083a50df4693"
      },
      "execution_count": null,
      "outputs": [
        {
          "output_type": "display_data",
          "data": {
            "text/plain": [
              "<Figure size 640x480 with 1 Axes>"
            ],
            "image/png": "[encoded data removed]"
          },
          "metadata": {}
        }
      ]
    },
    {
      "cell_type": "markdown",
      "source": [
        "> 1. Which gender has the highest count?\n",
        "\n",
        "> Answer : Female has the highest count."
      ],
      "metadata": {
        "id": "zZqx2yyRQArq"
      }
    },
    {
      "cell_type": "markdown",
      "source": [
        "> 2. Is the distribution balanced, or is there a significant difference between genders?\n",
        "\n",
        "> Answer : The distribution is relatively balanced, with a slight difference, Female count is slightly higher than Male count."
      ],
      "metadata": {
        "id": "xfcvC5k4Q08K"
      }
    },
    {
      "cell_type": "markdown",
      "source": [
        "**Box Plot of BMI**\n",
        "\n",
        "> A box plot is a graphical representation of the distribution of numerical data through five key summary statistics: the minimum, first quartile (Q1), median (Q2), third quartile (Q3), and maximum."
      ],
      "metadata": {
        "id": "VwQEj1E_MuVW"
      }
    },
    {
      "cell_type": "code",
      "source": [
        "# Set the seaborn plot style to whitegrid\n",
        "sns.set_style(\"whitegrid\")\n",
        "# Create a box plot of the \"Weight\" column of the DataFrame\n",
        "sns.boxplot(x = df1[\"BMI\"])\n",
        "plt.show()"
      ],
      "metadata": {
        "id": "51X8z8T3LU7Y",
        "colab": {
          "base_uri": "https://localhost:8080/",
          "height": 449
        },
        "outputId": "69cc8b49-e71b-422f-ff3b-aeb39a2a600b"
      },
      "execution_count": null,
      "outputs": [
        {
          "output_type": "display_data",
          "data": {
            "text/plain": [
              "<Figure size 640x480 with 1 Axes>"
            ],
            "image/png": "[encoded data removed]"
          },
          "metadata": {}
        }
      ]
    },
    {
      "cell_type": "markdown",
      "source": [
        "> 1. What is the median BMI (the middle line in the box)?\n",
        "\n",
        "> Answer : Answer: The median BMI is approximately 23."
      ],
      "metadata": {
        "id": "4mIgoONiQu0C"
      }
    },
    {
      "cell_type": "markdown",
      "source": [
        "> 2. What is the interquartile range (IQR) (distance between Q1 and Q3)?\n",
        "\n",
        "> Answer : The IQR is approximately 7 (from about 20 to 27)."
      ],
      "metadata": {
        "id": "oPHvGI17Rf5m"
      }
    },
    {
      "cell_type": "markdown",
      "source": [
        "> 3. Are there any outliers (points outside the whiskers)?\n",
        "\n",
        "> Answer : There are no outliers in this box plot."
      ],
      "metadata": {
        "id": "wP302QvSRmfq"
      }
    },
    {
      "cell_type": "markdown",
      "source": [
        "**Scatter plot for BMI vs. Weight**"
      ],
      "metadata": {
        "id": "Nv2wgb9DMi2R"
      }
    },
    {
      "cell_type": "code",
      "source": [
        "# Randomly sample 1000 rows from the DataFrame 'df1' and store it in 'df_sampled'\n",
        "df_sampled = df1.sample(1000)\n",
        "# Set the figure size for the plot\n",
        "plt.figure(figsize=(10, 8))\n",
        "# Create a regression plot (scatter plot with a trend line) for 'Weight' vs 'BMI'\n",
        "# scatter_kws controls the transparency of the scatter points, and line_kws sets the color of the trend line\n",
        "sns.regplot(x=df_sampled['Weight'], y=df_sampled['BMI'], scatter_kws={'alpha':0.5}, line_kws={'color':'red'})\n",
        "# Set the title of the plot\n",
        "plt.title('Scatter Plot of BMI vs. Weight with Trend Line')\n",
        "# Set the labels for the x and y axes\n",
        "plt.xlabel('Weight (kg)')\n",
        "plt.ylabel('BMI')\n",
        "# Enable grid lines on the plot\n",
        "plt.grid(True)\n",
        "# Display the plot\n",
        "plt.show()"
      ],
      "metadata": {
        "id": "hj5ETKTYMiP6",
        "colab": {
          "base_uri": "https://localhost:8080/",
          "height": 718
        },
        "outputId": "4a976a96-2be9-43ab-86bb-55992e7f78a9"
      },
      "execution_count": null,
      "outputs": [
        {
          "output_type": "display_data",
          "data": {
            "text/plain": [
              "<Figure size 1000x800 with 1 Axes>"
            ],
            "image/png": "[encoded data removed]"
          },
          "metadata": {}
        }
      ]
    },
    {
      "cell_type": "markdown",
      "source": [
        "> 1. Does the scatter plot confirm a strong positive correlation between Weight and BMI?\n",
        "\n",
        "> Answer : Yes, the scatter plot confirms a strong positive correlation between Weight and BMI."
      ],
      "metadata": {
        "id": "IJUlaoZxaYIB"
      }
    },
    {
      "cell_type": "markdown",
      "source": [
        "> 2. Is the red trend line steep or gradual? What does that indicate about how weight affects BMI?\n",
        "\n",
        "> Answer : The red trend line is relatively steep, indicating that weight has a significant impact on BMI, a small increase in weight leads to a noticeable increase in BMI."
      ],
      "metadata": {
        "id": "KZtKgDXtahw5"
      }
    },
    {
      "cell_type": "markdown",
      "source": [
        "**Pie Chart for Blood Type Distribution**"
      ],
      "metadata": {
        "id": "VnMJroN5SnWf"
      }
    },
    {
      "cell_type": "code",
      "source": [
        "# Pie chart for Blood Type distribution\n",
        "blood_type_counts = df1['Blood Type'].value_counts()\n",
        "plt.pie(blood_type_counts, labels=blood_type_counts.index, autopct='%1.1f%%')\n",
        "plt.title('Blood Type Distribution')\n",
        "plt.axis('equal')  # Equal aspect ratio ensures the pie chart is circular.\n",
        "plt.show()"
      ],
      "metadata": {
        "id": "YESdWffzSiZg",
        "colab": {
          "base_uri": "https://localhost:8080/",
          "height": 428
        },
        "outputId": "ac458426-03d2-42c1-d85e-7cf910ebc2dd"
      },
      "execution_count": null,
      "outputs": [
        {
          "output_type": "display_data",
          "data": {
            "text/plain": [
              "<Figure size 640x480 with 1 Axes>"
            ],
            "image/png": "[encoded data removed]"
          },
          "metadata": {}
        }
      ]
    },
    {
      "cell_type": "markdown",
      "source": [
        "> 1. Which blood type is the most common among students?\n",
        "\n",
        "> Answer : Blood type B is the most common, with 25.4%."
      ],
      "metadata": {
        "id": "phfTHaZXTDNw"
      }
    },
    {
      "cell_type": "markdown",
      "source": [
        "> 2. Which blood type is the least common?\n",
        "\n",
        "> Answer : Blood type AB is the least common, with 24.5%."
      ],
      "metadata": {
        "id": "uAdyjAOZTJqH"
      }
    },
    {
      "cell_type": "markdown",
      "source": [
        "**Heatmap for Correlation Matrix**"
      ],
      "metadata": {
        "id": "TE0Th_2TbF14"
      }
    },
    {
      "cell_type": "code",
      "source": [
        "# Compute correlation matrix\n",
        "corr = df1[['Age', 'Height', 'Weight', 'BMI', 'Temperature', 'Heart Rate', 'Blood Pressure', 'Cholesterol']].corr()\n",
        "# Set figure size\n",
        "plt.figure(figsize=(8, 6))  # Increase the figure size (width, height)\n",
        "# Plot a heatmap of the correlation matrix with annotations and the 'coolwarm' color map\n",
        "sns.heatmap(corr, annot=True, cmap='coolwarm')\n",
        "# Show the plot\n",
        "plt.show()"
      ],
      "metadata": {
        "id": "uDB0EGuQUc2Q",
        "colab": {
          "base_uri": "https://localhost:8080/",
          "height": 617
        },
        "outputId": "a31cdd2d-876a-4284-ab97-b2e50a34f528"
      },
      "execution_count": null,
      "outputs": [
        {
          "output_type": "display_data",
          "data": {
            "text/plain": [
              "<Figure size 800x600 with 2 Axes>"
            ],
            "image/png": "[encoded data removed]"
          },
          "metadata": {}
        }
      ]
    },
    {
      "cell_type": "markdown",
      "source": [
        "> 1. Which columns are most strongly correlated with each other?\n",
        "\n",
        "> Answer : The columns Weight and BMI are most strongly correlated, with a correlation coefficient of approximately 0.82."
      ],
      "metadata": {
        "id": "ipR-cTDMZA9i"
      }
    },
    {
      "cell_type": "markdown",
      "source": [
        "> 2. Which columns show the weakest correlation with each other?\n",
        "\n",
        "> Answer : The columns Age and Cholesterol show the weakest correlation, with a correlation coefficient close to 0.00 (approximately -0.0086)."
      ],
      "metadata": {
        "id": "JesEBqUHZzy2"
      }
    },
    {
      "cell_type": "markdown",
      "source": [
        "> 3. Based on the correlation matrix, do taller individuals tend to weigh more?\n",
        "\n",
        "> Answer : No, taller individuals do not tend to weigh more, as indicated by the weak negative correlation of approximately -0.0094 between Height and Weight."
      ],
      "metadata": {
        "id": "cvqHT9z8aejS"
      }
    },
    {
      "cell_type": "markdown",
      "source": [
        "### 6. Data Preparation\n",
        "\n",
        "> Two main goals in data pre-processing:\n",
        "\n",
        "1. Clean the data to address data quality issues (We've already done this part).\n",
        "\n",
        "2. Transform the raw data to make it suitable for model building."
      ],
      "metadata": {
        "id": "IkWZiQP0eluw"
      }
    },
    {
      "cell_type": "code",
      "source": [
        "# check for categorical columns to convert it into numerical form for model building\n",
        "cat_cols"
      ],
      "metadata": {
        "id": "siloYb9EXRMT",
        "colab": {
          "base_uri": "https://localhost:8080/"
        },
        "outputId": "17946467-f3b0-45b8-d99b-6d419ad90cc7"
      },
      "execution_count": null,
      "outputs": [
        {
          "output_type": "execute_result",
          "data": {
            "text/plain": [
              "['Gender', 'Blood Type', 'Diabetes', 'Smoking']"
            ]
          },
          "metadata": {},
          "execution_count": 36
        }
      ]
    },
    {
      "cell_type": "markdown",
      "source": [
        "> Use **LabelEncoder** to transform our categorical column into numerical format.\n",
        "\n",
        "> Example code :"
      ],
      "metadata": {
        "id": "jBIgGIBCZreB"
      }
    },
    {
      "cell_type": "code",
      "source": [
        "from sklearn.preprocessing import LabelEncoder\n",
        "\n",
        "label_encoder = LabelEncoder()\n",
        "print(\"Gender dtype before encoding : \", df1['Gender'].dtypes)\n",
        "df1['Gender'] = label_encoder.fit_transform(df1['Gender'])\n",
        "print(\"Gender dtype after encoding : \", df1['Gender'].dtypes)"
      ],
      "metadata": {
        "id": "dFkK3o7sawVX",
        "colab": {
          "base_uri": "https://localhost:8080/"
        },
        "outputId": "807ec53c-c478-497c-c7c4-47a82e5aa229"
      },
      "execution_count": null,
      "outputs": [
        {
          "output_type": "stream",
          "name": "stdout",
          "text": [
            "Gender dtype before encoding :  object\n",
            "Gender dtype after encoding :  int64\n"
          ]
        }
      ]
    },
    {
      "cell_type": "markdown",
      "source": [
        "> Similarly do for other categorical columns"
      ],
      "metadata": {
        "id": "kOud_GDWaEu6"
      }
    },
    {
      "cell_type": "code",
      "source": [
        "from sklearn.preprocessing import LabelEncoder\n",
        "\n",
        "# Initialize LabelEncoder\n",
        "label_encoder = LabelEncoder()\n",
        "\n",
        "# Encode 'Blood Type' column\n",
        "print(\"Blood Type dtype before encoding:\", df1['Blood Type'].dtypes)\n",
        "df1['Blood Type'] = label_encoder.fit_transform(df1['Blood Type'])\n",
        "print(\"Blood Type dtype after encoding:\", df1['Blood Type'].dtypes)\n",
        "\n",
        "# Encode 'Diabetes' column\n",
        "print(\"Diabetes dtype before encoding:\", df1['Diabetes'].dtypes)\n",
        "df1['Diabetes'] = label_encoder.fit_transform(df1['Diabetes'])\n",
        "print(\"Diabetes dtype after encoding:\", df1['Diabetes'].dtypes)\n",
        "\n",
        "# Encode 'Smoking' column\n",
        "print(\"Smoking dtype before encoding:\", df1['Smoking'].dtypes)\n",
        "df1['Smoking'] = label_encoder.fit_transform(df1['Smoking'])\n",
        "print(\"Smoking dtype after encoding:\", df1['Smoking'].dtypes)\n"
      ],
      "metadata": {
        "id": "OUjv_9gwhN44",
        "colab": {
          "base_uri": "https://localhost:8080/"
        },
        "outputId": "d4eefbc4-e1ca-40fa-bd68-6f7d8ec68c2c"
      },
      "execution_count": null,
      "outputs": [
        {
          "output_type": "stream",
          "name": "stdout",
          "text": [
            "Blood Type dtype before encoding: object\n",
            "Blood Type dtype after encoding: int64\n",
            "Diabetes dtype before encoding: object\n",
            "Diabetes dtype after encoding: int64\n",
            "Smoking dtype before encoding: object\n",
            "Smoking dtype after encoding: int64\n"
          ]
        }
      ]
    },
    {
      "cell_type": "markdown",
      "source": [
        "> The below code is performing feature scaling using StandardScaler to standardize (normalize) our numerical features to improve model performance."
      ],
      "metadata": {
        "id": "zlQtMvRich8G"
      }
    },
    {
      "cell_type": "code",
      "source": [
        "from sklearn.preprocessing import StandardScaler\n",
        "\n",
        "scaler = StandardScaler()\n",
        "numerical_features = ['Age', 'Height', 'Weight', 'BMI', 'Temperature', 'Heart Rate', 'Blood Pressure', 'Cholesterol']\n",
        "df1[numerical_features] = scaler.fit_transform(df1[numerical_features])\n",
        "df1.head()"
      ],
      "metadata": {
        "id": "f8AJM6qrrRYo",
        "colab": {
          "base_uri": "https://localhost:8080/",
          "height": 206
        },
        "outputId": "3e6836a8-bbe6-47d2-f945-9e5b085a85ac"
      },
      "execution_count": null,
      "outputs": [
        {
          "output_type": "execute_result",
          "data": {
            "text/plain": [
              "        Age  Gender    Height    Weight  Blood Type       BMI  Temperature  \\\n",
              "0  1.632303       1 -0.149278 -1.516653           3 -1.232759     0.970335   \n",
              "1 -0.212278       0 -1.372715 -0.945109           1 -0.161694    -0.726237   \n",
              "2 -0.417232       1  0.150667 -1.624329           2 -1.415721     1.298217   \n",
              "3  1.632303       1  0.876610  0.759418           1  0.044085    -0.275013   \n",
              "4  0.607536       1 -0.006857  1.307641           1  1.705135    -0.298453   \n",
              "\n",
              "   Heart Rate  Blood Pressure  Cholesterol  Diabetes  Smoking  \n",
              "0    1.100792        0.240647    -0.459951         1        0  \n",
              "1   -1.110506       -1.150786    -1.601632         0        0  \n",
              "2   -0.049083        0.797220     1.026889         0        1  \n",
              "3   -1.287410       -1.359501    -0.645806         0        0  \n",
              "4   -0.402891       -0.246355    -0.566154         0        0  "
            ],
            "text/html": [
              "\n",
              "  <div id=\"df-b72c3598-3e8f-4d47-8882-6c21cfe09483\" class=\"colab-df-container\">\n",
              "    <div>\n",
              "<style scoped>\n",
              "    .dataframe tbody tr th:only-of-type {\n",
              "        vertical-align: middle;\n",
              "    }\n",
              "\n",
              "    .dataframe tbody tr th {\n",
              "        vertical-align: top;\n",
              "    }\n",
              "\n",
              "    .dataframe thead th {\n",
              "        text-align: right;\n",
              "    }\n",
              "</style>\n",
              "<table border=\"1\" class=\"dataframe\">\n",
              "  <thead>\n",
              "    <tr style=\"text-align: right;\">\n",
              "      <th></th>\n",
              "      <th>Age</th>\n",
              "      <th>Gender</th>\n",
              "      <th>Height</th>\n",
              "      <th>Weight</th>\n",
              "      <th>Blood Type</th>\n",
              "      <th>BMI</th>\n",
              "      <th>Temperature</th>\n",
              "      <th>Heart Rate</th>\n",
              "      <th>Blood Pressure</th>\n",
              "      <th>Cholesterol</th>\n",
              "      <th>Diabetes</th>\n",
              "      <th>Smoking</th>\n",
              "    </tr>\n",
              "  </thead>\n",
              "  <tbody>\n",
              "    <tr>\n",
              "      <th>0</th>\n",
              "      <td>1.632303</td>\n",
              "      <td>1</td>\n",
              "      <td>-0.149278</td>\n",
              "      <td>-1.516653</td>\n",
              "      <td>3</td>\n",
              "      <td>-1.232759</td>\n",
              "      <td>0.970335</td>\n",
              "      <td>1.100792</td>\n",
              "      <td>0.240647</td>\n",
              "      <td>-0.459951</td>\n",
              "      <td>1</td>\n",
              "      <td>0</td>\n",
              "    </tr>\n",
              "    <tr>\n",
              "      <th>1</th>\n",
              "      <td>-0.212278</td>\n",
              "      <td>0</td>\n",
              "      <td>-1.372715</td>\n",
              "      <td>-0.945109</td>\n",
              "      <td>1</td>\n",
              "      <td>-0.161694</td>\n",
              "      <td>-0.726237</td>\n",
              "      <td>-1.110506</td>\n",
              "      <td>-1.150786</td>\n",
              "      <td>-1.601632</td>\n",
              "      <td>0</td>\n",
              "      <td>0</td>\n",
              "    </tr>\n",
              "    <tr>\n",
              "      <th>2</th>\n",
              "      <td>-0.417232</td>\n",
              "      <td>1</td>\n",
              "      <td>0.150667</td>\n",
              "      <td>-1.624329</td>\n",
              "      <td>2</td>\n",
              "      <td>-1.415721</td>\n",
              "      <td>1.298217</td>\n",
              "      <td>-0.049083</td>\n",
              "      <td>0.797220</td>\n",
              "      <td>1.026889</td>\n",
              "      <td>0</td>\n",
              "      <td>1</td>\n",
              "    </tr>\n",
              "    <tr>\n",
              "      <th>3</th>\n",
              "      <td>1.632303</td>\n",
              "      <td>1</td>\n",
              "      <td>0.876610</td>\n",
              "      <td>0.759418</td>\n",
              "      <td>1</td>\n",
              "      <td>0.044085</td>\n",
              "      <td>-0.275013</td>\n",
              "      <td>-1.287410</td>\n",
              "      <td>-1.359501</td>\n",
              "      <td>-0.645806</td>\n",
              "      <td>0</td>\n",
              "      <td>0</td>\n",
              "    </tr>\n",
              "    <tr>\n",
              "      <th>4</th>\n",
              "      <td>0.607536</td>\n",
              "      <td>1</td>\n",
              "      <td>-0.006857</td>\n",
              "      <td>1.307641</td>\n",
              "      <td>1</td>\n",
              "      <td>1.705135</td>\n",
              "      <td>-0.298453</td>\n",
              "      <td>-0.402891</td>\n",
              "      <td>-0.246355</td>\n",
              "      <td>-0.566154</td>\n",
              "      <td>0</td>\n",
              "      <td>0</td>\n",
              "    </tr>\n",
              "  </tbody>\n",
              "</table>\n",
              "</div>\n",
              "    <div class=\"colab-df-buttons\">\n",
              "\n",
              "  <div class=\"colab-df-container\">\n",
              "    <button class=\"colab-df-convert\" onclick=\"convertToInteractive('df-b72c3598-3e8f-4d47-8882-6c21cfe09483')\"\n",
              "            title=\"Convert this dataframe to an interactive table.\"\n",
              "            style=\"display:none;\">\n",
              "\n",
              "  <svg xmlns=\"http://www.w3.org/2000/svg\" height=\"24px\" viewBox=\"0 -960 960 960\">\n",
              "    <path d=\"M120-120v-720h720v720H120Zm60-500h600v-160H180v160Zm220 220h160v-160H400v160Zm0 220h160v-160H400v160ZM180-400h160v-160H180v160Zm440 0h160v-160H620v160ZM180-180h160v-160H180v160Zm440 0h160v-160H620v160Z\"/>\n",
              "  </svg>\n",
              "    </button>\n",
              "\n",
              "  <style>\n",
              "    .colab-df-container {\n",
              "      display:flex;\n",
              "      gap: 12px;\n",
              "    }\n",
              "\n",
              "    .colab-df-convert {\n",
              "      background-color: #E8F0FE;\n",
              "      border: none;\n",
              "      border-radius: 50%;\n",
              "      cursor: pointer;\n",
              "      display: none;\n",
              "      fill: #1967D2;\n",
              "      height: 32px;\n",
              "      padding: 0 0 0 0;\n",
              "      width: 32px;\n",
              "    }\n",
              "\n",
              "    .colab-df-convert:hover {\n",
              "      background-color: #E2EBFA;\n",
              "      box-shadow: 0px 1px 2px rgba(60, 64, 67, 0.3), 0px 1px 3px 1px rgba(60, 64, 67, 0.15);\n",
              "      fill: #174EA6;\n",
              "    }\n",
              "\n",
              "    .colab-df-buttons div {\n",
              "      margin-bottom: 4px;\n",
              "    }\n",
              "\n",
              "    [theme=dark] .colab-df-convert {\n",
              "      background-color: #3B4455;\n",
              "      fill: #D2E3FC;\n",
              "    }\n",
              "\n",
              "    [theme=dark] .colab-df-convert:hover {\n",
              "      background-color: #434B5C;\n",
              "      box-shadow: 0px 1px 3px 1px rgba(0, 0, 0, 0.15);\n",
              "      filter: drop-shadow(0px 1px 2px rgba(0, 0, 0, 0.3));\n",
              "      fill: #FFFFFF;\n",
              "    }\n",
              "  </style>\n",
              "\n",
              "    <script>\n",
              "      const buttonEl =\n",
              "        document.querySelector('#df-b72c3598-3e8f-4d47-8882-6c21cfe09483 button.colab-df-convert');\n",
              "      buttonEl.style.display =\n",
              "        google.colab.kernel.accessAllowed ? 'block' : 'none';\n",
              "\n",
              "      async function convertToInteractive(key) {\n",
              "        const element = document.querySelector('#df-b72c3598-3e8f-4d47-8882-6c21cfe09483');\n",
              "        const dataTable =\n",
              "          await google.colab.kernel.invokeFunction('convertToInteractive',\n",
              "                                                    [key], {});\n",
              "        if (!dataTable) return;\n",
              "\n",
              "        const docLinkHtml = 'Like what you see? Visit the ' +\n",
              "          '<a target=\"_blank\" href=https://colab.research.google.com/notebooks/data_table.ipynb>data table notebook</a>'\n",
              "          + ' to learn more about interactive tables.';\n",
              "        element.innerHTML = '';\n",
              "        dataTable['output_type'] = 'display_data';\n",
              "        await google.colab.output.renderOutput(dataTable, element);\n",
              "        const docLink = document.createElement('div');\n",
              "        docLink.innerHTML = docLinkHtml;\n",
              "        element.appendChild(docLink);\n",
              "      }\n",
              "    </script>\n",
              "  </div>\n",
              "\n",
              "\n",
              "<div id=\"df-7937bd5c-64fd-4bd6-8118-bd3db654ad42\">\n",
              "  <button class=\"colab-df-quickchart\" onclick=\"quickchart('df-7937bd5c-64fd-4bd6-8118-bd3db654ad42')\"\n",
              "            title=\"Suggest charts\"\n",
              "            style=\"display:none;\">\n",
              "\n",
              "<svg xmlns=\"http://www.w3.org/2000/svg\" height=\"24px\"viewBox=\"0 0 24 24\"\n",
              "     width=\"24px\">\n",
              "    <g>\n",
              "        <path d=\"M19 3H5c-1.1 0-2 .9-2 2v14c0 1.1.9 2 2 2h14c1.1 0 2-.9 2-2V5c0-1.1-.9-2-2-2zM9 17H7v-7h2v7zm4 0h-2V7h2v10zm4 0h-2v-4h2v4z\"/>\n",
              "    </g>\n",
              "</svg>\n",
              "  </button>\n",
              "\n",
              "<style>\n",
              "  .colab-df-quickchart {\n",
              "      --bg-color: #E8F0FE;\n",
              "      --fill-color: #1967D2;\n",
              "      --hover-bg-color: #E2EBFA;\n",
              "      --hover-fill-color: #174EA6;\n",
              "      --disabled-fill-color: #AAA;\n",
              "      --disabled-bg-color: #DDD;\n",
              "  }\n",
              "\n",
              "  [theme=dark] .colab-df-quickchart {\n",
              "      --bg-color: #3B4455;\n",
              "      --fill-color: #D2E3FC;\n",
              "      --hover-bg-color: #434B5C;\n",
              "      --hover-fill-color: #FFFFFF;\n",
              "      --disabled-bg-color: #3B4455;\n",
              "      --disabled-fill-color: #666;\n",
              "  }\n",
              "\n",
              "  .colab-df-quickchart {\n",
              "    background-color: var(--bg-color);\n",
              "    border: none;\n",
              "    border-radius: 50%;\n",
              "    cursor: pointer;\n",
              "    display: none;\n",
              "    fill: var(--fill-color);\n",
              "    height: 32px;\n",
              "    padding: 0;\n",
              "    width: 32px;\n",
              "  }\n",
              "\n",
              "  .colab-df-quickchart:hover {\n",
              "    background-color: var(--hover-bg-color);\n",
              "    box-shadow: 0 1px 2px rgba(60, 64, 67, 0.3), 0 1px 3px 1px rgba(60, 64, 67, 0.15);\n",
              "    fill: var(--button-hover-fill-color);\n",
              "  }\n",
              "\n",
              "  .colab-df-quickchart-complete:disabled,\n",
              "  .colab-df-quickchart-complete:disabled:hover {\n",
              "    background-color: var(--disabled-bg-color);\n",
              "    fill: var(--disabled-fill-color);\n",
              "    box-shadow: none;\n",
              "  }\n",
              "\n",
              "  .colab-df-spinner {\n",
              "    border: 2px solid var(--fill-color);\n",
              "    border-color: transparent;\n",
              "    border-bottom-color: var(--fill-color);\n",
              "    animation:\n",
              "      spin 1s steps(1) infinite;\n",
              "  }\n",
              "\n",
              "  @keyframes spin {\n",
              "    0% {\n",
              "      border-color: transparent;\n",
              "      border-bottom-color: var(--fill-color);\n",
              "      border-left-color: var(--fill-color);\n",
              "    }\n",
              "    20% {\n",
              "      border-color: transparent;\n",
              "      border-left-color: var(--fill-color);\n",
              "      border-top-color: var(--fill-color);\n",
              "    }\n",
              "    30% {\n",
              "      border-color: transparent;\n",
              "      border-left-color: var(--fill-color);\n",
              "      border-top-color: var(--fill-color);\n",
              "      border-right-color: var(--fill-color);\n",
              "    }\n",
              "    40% {\n",
              "      border-color: transparent;\n",
              "      border-right-color: var(--fill-color);\n",
              "      border-top-color: var(--fill-color);\n",
              "    }\n",
              "    60% {\n",
              "      border-color: transparent;\n",
              "      border-right-color: var(--fill-color);\n",
              "    }\n",
              "    80% {\n",
              "      border-color: transparent;\n",
              "      border-right-color: var(--fill-color);\n",
              "      border-bottom-color: var(--fill-color);\n",
              "    }\n",
              "    90% {\n",
              "      border-color: transparent;\n",
              "      border-bottom-color: var(--fill-color);\n",
              "    }\n",
              "  }\n",
              "</style>\n",
              "\n",
              "  <script>\n",
              "    async function quickchart(key) {\n",
              "      const quickchartButtonEl =\n",
              "        document.querySelector('#' + key + ' button');\n",
              "      quickchartButtonEl.disabled = true;  // To prevent multiple clicks.\n",
              "      quickchartButtonEl.classList.add('colab-df-spinner');\n",
              "      try {\n",
              "        const charts = await google.colab.kernel.invokeFunction(\n",
              "            'suggestCharts', [key], {});\n",
              "      } catch (error) {\n",
              "        console.error('Error during call to suggestCharts:', error);\n",
              "      }\n",
              "      quickchartButtonEl.classList.remove('colab-df-spinner');\n",
              "      quickchartButtonEl.classList.add('colab-df-quickchart-complete');\n",
              "    }\n",
              "    (() => {\n",
              "      let quickchartButtonEl =\n",
              "        document.querySelector('#df-7937bd5c-64fd-4bd6-8118-bd3db654ad42 button');\n",
              "      quickchartButtonEl.style.display =\n",
              "        google.colab.kernel.accessAllowed ? 'block' : 'none';\n",
              "    })();\n",
              "  </script>\n",
              "</div>\n",
              "\n",
              "    </div>\n",
              "  </div>\n"
            ],
            "application/vnd.google.colaboratory.intrinsic+json": {
              "type": "dataframe",
              "variable_name": "df1",
              "summary": "{\n  \"name\": \"df1\",\n  \"rows\": 44854,\n  \"fields\": [\n    {\n      \"column\": \"Age\",\n      \"properties\": {\n        \"dtype\": \"number\",\n        \"std\": 1.0000111474642783,\n        \"min\": -1.6469524505518107,\n        \"max\": 1.6323031252741071,\n        \"num_unique_values\": 17,\n        \"samples\": [\n          1.6323031252741071,\n          -0.21227813612797158,\n          -0.0073246626388517215\n        ],\n        \"semantic_type\": \"\",\n        \"description\": \"\"\n      }\n    },\n    {\n      \"column\": \"Gender\",\n      \"properties\": {\n        \"dtype\": \"number\",\n        \"std\": 0,\n        \"min\": 0,\n        \"max\": 1,\n        \"num_unique_values\": 2,\n        \"samples\": [\n          0,\n          1\n        ],\n        \"semantic_type\": \"\",\n        \"description\": \"\"\n      }\n    },\n    {\n      \"column\": \"Height\",\n      \"properties\": {\n        \"dtype\": \"number\",\n        \"std\": 1.0000111474642364,\n        \"min\": -1.7497103876305211,\n        \"max\": 1.761026024155494,\n        \"num_unique_values\": 42799,\n        \"samples\": [\n          1.0281007868836811,\n          -1.2622348667496976\n        ],\n        \"semantic_type\": \"\",\n        \"description\": \"\"\n      }\n    },\n    {\n      \"column\": \"Weight\",\n      \"properties\": {\n        \"dtype\": \"number\",\n        \"std\": 1.0000111474642315,\n        \"min\": -1.7338545661631302,\n        \"max\": 1.7310769870746041,\n        \"num_unique_values\": 43740,\n        \"samples\": [\n          -1.1279030280859708,\n          0.5094551194024765\n        ],\n        \"semantic_type\": \"\",\n        \"description\": \"\"\n      }\n    },\n    {\n      \"column\": \"Blood Type\",\n      \"properties\": {\n        \"dtype\": \"number\",\n        \"std\": 1,\n        \"min\": 0,\n        \"max\": 3,\n        \"num_unique_values\": 4,\n        \"samples\": [\n          1,\n          0\n        ],\n        \"semantic_type\": \"\",\n        \"description\": \"\"\n      }\n    },\n    {\n      \"column\": \"BMI\",\n      \"properties\": {\n        \"dtype\": \"number\",\n        \"std\": 1.0000111474642364,\n        \"min\": -1.8809484039052342,\n        \"max\": 2.8352901584348884,\n        \"num_unique_values\": 43706,\n        \"samples\": [\n          1.7297179301127603,\n          -0.47357320934858066\n        ],\n        \"semantic_type\": \"\",\n        \"description\": \"\"\n      }\n    },\n    {\n      \"column\": \"Temperature\",\n      \"properties\": {\n        \"dtype\": \"number\",\n        \"std\": 1.0000111474642301,\n        \"min\": -2.721700531153536,\n        \"max\": 2.7298813814848852,\n        \"num_unique_values\": 43445,\n        \"samples\": [\n          0.5324202393358135,\n          0.09408616222890069\n        ],\n        \"semantic_type\": \"\",\n        \"description\": \"\"\n      }\n    },\n    {\n      \"column\": \"Heart Rate\",\n      \"properties\": {\n        \"dtype\": \"number\",\n        \"std\": 1.0000111474642202,\n        \"min\": -1.7296691495137688,\n        \"max\": 1.7199550977458107,\n        \"num_unique_values\": 40,\n        \"samples\": [\n          1.4545993864181508,\n          0.3931765411075109\n        ],\n        \"semantic_type\": \"\",\n        \"description\": \"\"\n      }\n    },\n    {\n      \"column\": \"Blood Pressure\",\n      \"properties\": {\n        \"dtype\": \"number\",\n        \"std\": 1.0000111474643407,\n        \"min\": -1.7073596397517683,\n        \"max\": 1.7016517049153996,\n        \"num_unique_values\": 50,\n        \"samples\": [\n          -0.8029280585135401,\n          -0.45506975803729854\n        ],\n        \"semantic_type\": \"\",\n        \"description\": \"\"\n      }\n    },\n    {\n      \"column\": \"Cholesterol\",\n      \"properties\": {\n        \"dtype\": \"number\",\n        \"std\": 1.0000111474642135,\n        \"min\": -1.7078349173010918,\n        \"max\": 1.7172076390372222,\n        \"num_unique_values\": 130,\n        \"samples\": [\n          -0.5396033476973258,\n          1.0799904192533498\n        ],\n        \"semantic_type\": \"\",\n        \"description\": \"\"\n      }\n    },\n    {\n      \"column\": \"Diabetes\",\n      \"properties\": {\n        \"dtype\": \"number\",\n        \"std\": 0,\n        \"min\": 0,\n        \"max\": 1,\n        \"num_unique_values\": 2,\n        \"samples\": [\n          0,\n          1\n        ],\n        \"semantic_type\": \"\",\n        \"description\": \"\"\n      }\n    },\n    {\n      \"column\": \"Smoking\",\n      \"properties\": {\n        \"dtype\": \"number\",\n        \"std\": 0,\n        \"min\": 0,\n        \"max\": 1,\n        \"num_unique_values\": 2,\n        \"samples\": [\n          1,\n          0\n        ],\n        \"semantic_type\": \"\",\n        \"description\": \"\"\n      }\n    }\n  ]\n}"
            }
          },
          "metadata": {},
          "execution_count": 39
        }
      ]
    },
    {
      "cell_type": "markdown",
      "source": [
        "### 7. Model Building\n",
        "\n",
        "In this section, we'll focus on building a predictive model using the 'Diabetes' column as our target variable. The goal is to predict whether a person has diabetes or not based on other features."
      ],
      "metadata": {
        "id": "Zj9MKhoTh87E"
      }
    },
    {
      "cell_type": "markdown",
      "source": [
        "**Splitting our features and target**"
      ],
      "metadata": {
        "id": "tuS-H1Fcngwf"
      }
    },
    {
      "cell_type": "code",
      "source": [
        "# Split the dataset into training and testing sets (assuming df1 is preprocessed)\n",
        "X = df1.drop(columns=['Diabetes'])  # Replace 'Target' with your actual target column\n",
        "y = df1['Diabetes']  # Define the target variable"
      ],
      "metadata": {
        "id": "cmJw_oX3fL6e"
      },
      "execution_count": null,
      "outputs": []
    },
    {
      "cell_type": "markdown",
      "source": [
        "**Split data into training and testing set**"
      ],
      "metadata": {
        "id": "ZNOuCeW8otAt"
      }
    },
    {
      "cell_type": "code",
      "source": [
        "from sklearn.model_selection import train_test_split\n",
        "\n",
        "# Splitting the dataset into 80% training and 20% testing\n",
        "X_train, X_test, y_train, y_test = train_test_split(X, y, test_size=0.2, random_state=42)\n",
        "\n",
        "# Print the shape of the resulting datasets\n",
        "print(f\"X_train shape: {X_train.shape}\")\n",
        "print(f\"X_test shape: {X_test.shape}\")\n",
        "print(f\"y_train shape: {y_train.shape}\")\n",
        "print(f\"y_test shape: {y_test.shape}\")"
      ],
      "metadata": {
        "id": "0BT_V5CLosiO",
        "colab": {
          "base_uri": "https://localhost:8080/"
        },
        "outputId": "e4e8b807-3eb6-4822-e34b-ad0e3f5e9b92"
      },
      "execution_count": null,
      "outputs": [
        {
          "output_type": "stream",
          "name": "stdout",
          "text": [
            "X_train shape: (35883, 11)\n",
            "X_test shape: (8971, 11)\n",
            "y_train shape: (35883,)\n",
            "y_test shape: (8971,)\n"
          ]
        }
      ]
    },
    {
      "cell_type": "markdown",
      "source": [
        "**Model Training**"
      ],
      "metadata": {
        "id": "ToNpEoBvpHqL"
      }
    },
    {
      "cell_type": "markdown",
      "source": [
        "> For this workshop we will be training our model using the below ML algorithms as well as compare them.\n",
        "\n",
        "* Logistic Regression\n",
        "* Support Vector Machine (SVM)\n",
        "* Random Forest\n",
        "* K-Nearest Neighbors"
      ],
      "metadata": {
        "id": "JPQ3dYZEgBwu"
      }
    },
    {
      "cell_type": "code",
      "source": [
        "# Import Necessary Libraries for Model Building\n",
        "from sklearn.svm import SVC\n",
        "from sklearn.linear_model import LogisticRegression\n",
        "from sklearn.ensemble import RandomForestClassifier\n",
        "from sklearn.neighbors import KNeighborsClassifier\n",
        "from sklearn.metrics import accuracy_score, classification_report, confusion_matrix"
      ],
      "metadata": {
        "id": "1vpBlJPjoJv1"
      },
      "execution_count": null,
      "outputs": []
    },
    {
      "cell_type": "markdown",
      "source": [
        "> Logistic Regression"
      ],
      "metadata": {
        "id": "5bcMJCqVform"
      }
    },
    {
      "cell_type": "code",
      "source": [
        "model1 = LogisticRegression(max_iter=1000)  # Increase max_iter\n",
        "model1.fit(X_train, y_train)  # Train the model\n",
        "y_pred1 = model1.predict(X_test)  # Predict target values\n",
        "accuracy1 = accuracy_score(y_test, y_pred1)  # Calculate model accuracy\n",
        "print(accuracy1)\n"
      ],
      "metadata": {
        "id": "uRN0Lp9scmGi",
        "colab": {
          "base_uri": "https://localhost:8080/"
        },
        "outputId": "4e8fde1c-19ec-49c3-b75c-eb3124502c96"
      },
      "execution_count": null,
      "outputs": [
        {
          "output_type": "stream",
          "name": "stdout",
          "text": [
            "0.899676736149816\n"
          ]
        }
      ]
    },
    {
      "cell_type": "markdown",
      "source": [
        "> Support Vector Machine (SVM)"
      ],
      "metadata": {
        "id": "CSP1kiF0hQ5I"
      }
    },
    {
      "cell_type": "code",
      "source": [
        "model2 = SVC(kernel='linear')\n",
        "model2.fit(X_train, y_train)\n",
        "y_pred2 = model2.predict(X_test)\n",
        "accuracy2 = accuracy_score(y_test, y_pred2)\n",
        "print(accuracy2)"
      ],
      "metadata": {
        "id": "uIb3jJHf_S-J",
        "colab": {
          "base_uri": "https://localhost:8080/"
        },
        "outputId": "f774783f-d5ca-41bf-87cf-aabb961d4f55"
      },
      "execution_count": null,
      "outputs": [
        {
          "output_type": "stream",
          "name": "stdout",
          "text": [
            "0.899676736149816\n"
          ]
        }
      ]
    },
    {
      "cell_type": "markdown",
      "source": [
        "> Random Forest"
      ],
      "metadata": {
        "id": "IYBdobbnibRP"
      }
    },
    {
      "cell_type": "code",
      "source": [
        "model3 = RandomForestClassifier(n_estimators=100, random_state=42)\n",
        "model3.fit(X_train, y_train)\n",
        "y_pred3 = model3.predict(X_test)\n",
        "accuracy3 = accuracy_score(y_test, y_pred3)\n",
        "print(accuracy3)"
      ],
      "metadata": {
        "id": "ZhS77FDJ4UC_",
        "colab": {
          "base_uri": "https://localhost:8080/"
        },
        "outputId": "21a1486d-597d-44a3-e13d-d8c699539464"
      },
      "execution_count": null,
      "outputs": [
        {
          "output_type": "stream",
          "name": "stdout",
          "text": [
            "0.9016832014268198\n"
          ]
        }
      ]
    },
    {
      "cell_type": "markdown",
      "source": [
        "> K-Nearest Neighbors"
      ],
      "metadata": {
        "id": "s7g_MfLNjcPo"
      }
    },
    {
      "cell_type": "code",
      "source": [
        "model4 = KNeighborsClassifier(n_neighbors=5)\n",
        "model4.fit(X_train, y_train)\n",
        "y_pred4 = model4.predict(X_test)\n",
        "accuracy4 = accuracy_score(y_test, y_pred4)\n",
        "print(accuracy4)"
      ],
      "metadata": {
        "id": "5dFHkOfCy0DJ",
        "colab": {
          "base_uri": "https://localhost:8080/"
        },
        "outputId": "8f2703d1-a043-4057-f967-6337bd80d020"
      },
      "execution_count": null,
      "outputs": [
        {
          "output_type": "stream",
          "name": "stdout",
          "text": [
            "0.8938802809051388\n"
          ]
        }
      ]
    },
    {
      "cell_type": "markdown",
      "source": [
        "> Display Accuracies"
      ],
      "metadata": {
        "id": "l9FHReIPtzOq"
      }
    },
    {
      "cell_type": "code",
      "source": [
        "# Print the accuracy of all models\n",
        "print(\"Accuracy of Logistic Regression : \", accuracy1)\n",
        "print(\"Accuracy of SVM : \", accuracy2)\n",
        "print(\"Accuracy of Random Forest : \", accuracy3)\n",
        "print(\"Accuracy of K-Nearest Neighbors : \", accuracy4)"
      ],
      "metadata": {
        "id": "AfzU8BkV4YtY",
        "colab": {
          "base_uri": "https://localhost:8080/"
        },
        "outputId": "f33acbf3-0387-4064-f81e-dbbd4a3a7738"
      },
      "execution_count": null,
      "outputs": [
        {
          "output_type": "stream",
          "name": "stdout",
          "text": [
            "Accuracy of Logistic Regression :  0.899676736149816\n",
            "Accuracy of SVM :  0.899676736149816\n",
            "Accuracy of Random Forest :  0.9016832014268198\n",
            "Accuracy of K-Nearest Neighbors :  0.8938802809051388\n"
          ]
        }
      ]
    },
    {
      "cell_type": "markdown",
      "source": [
        "> *At first glance, all models seem to perform well, but accuracy alone can be misleading, especially in imbalanced datasets. A model might achieve high accuracy simply by predicting the majority class while failing to detect the minority class. To avoid such mistakes, it is important to use other metrics, such as Precision, Recall, F1-Score, and the Confusion Matrix, when evaluating a classification model*"
      ],
      "metadata": {
        "id": "VJePKRXit7fQ"
      }
    },
    {
      "cell_type": "markdown",
      "source": [
        "\n",
        "\n",
        "### 8. Model Evaluation"
      ],
      "metadata": {
        "id": "Kt9yu0jKkgl-"
      }
    },
    {
      "cell_type": "markdown",
      "source": [
        "> Since, our model is of classification type we will be using the following metrics to evaluate our model.\n",
        "\n",
        "* Confusion Matrix : The Confusion Matrix is a table that displays the performance of a classification model by showing the actual vs predicted labels. It consists of:\n",
        "  1. True Positives (TP): Correctly predicted positive cases.\n",
        "  2. True Negatives (TN): Correctly predicted negative cases.\n",
        "  3. False Positives (FP): Incorrectly predicted as positive.\n",
        "  4. False Negatives (FN): Incorrectly predicted as negative.\n",
        "  \n",
        "* Precison : Precision is the ratio of correct positive predictions to all predicted positive instances. It tells you how many of the predicted positive cases were actually correct.\n",
        "\n",
        "* Recall : Recall is the ratio of correct positive predictions to all actual positive instances. It measures how well the model identifies all positive cases.\n",
        "\n",
        "* F1-Score : F1-Score is the harmonic mean of Precision and Recall, balancing both metrics. It’s especially useful when the dataset has an uneven class distribution (e.g., when there are more negatives than positives).\n",
        "\n"
      ],
      "metadata": {
        "id": "sCsewbBAlSjm"
      }
    },
    {
      "cell_type": "markdown",
      "source": [
        "> Confusion Matrix"
      ],
      "metadata": {
        "id": "e0hyzFvToBiw"
      }
    },
    {
      "cell_type": "markdown",
      "source": [
        "> As we suspected, accuracy alone was misleading. Despite some models showing seemingly high accuracy, their confusion matrices reveal significant shortcomings in detecting the minority class."
      ],
      "metadata": {
        "id": "-U0cXiuZ6zOY"
      }
    },
    {
      "cell_type": "code",
      "source": [
        "# Store predictions from different models in a dictionary\n",
        "model_preds = {\n",
        "    \"Logistic Regression\" : y_pred1,\n",
        "    \"Support Vector Machine\" : y_pred2,\n",
        "    \"Random Forest\" : y_pred3,\n",
        "    \"K-Nearest Neighbors\": y_pred4\n",
        "}\n",
        "\n",
        "# Iterate through each model and plot its confusion matrix\n",
        "for model, pred in model_preds.items():\n",
        "    print(\"model : \", model)\n",
        "    print(confusion_matrix(y_test, pred))  # Display confusion matrix for each model\n",
        "    print('----------------------------')"
      ],
      "metadata": {
        "id": "ssANpA2q4enI",
        "colab": {
          "base_uri": "https://localhost:8080/"
        },
        "outputId": "830cf799-90cc-4dde-940d-50d7396554ac"
      },
      "execution_count": null,
      "outputs": [
        {
          "output_type": "stream",
          "name": "stdout",
          "text": [
            "model :  Logistic Regression\n",
            "[[8071    0]\n",
            " [ 900    0]]\n",
            "----------------------------\n",
            "model :  Support Vector Machine\n",
            "[[8071    0]\n",
            " [ 900    0]]\n",
            "----------------------------\n",
            "model :  Random Forest\n",
            "[[8071    0]\n",
            " [ 882   18]]\n",
            "----------------------------\n",
            "model :  K-Nearest Neighbors\n",
            "[[8006   65]\n",
            " [ 887   13]]\n",
            "----------------------------\n"
          ]
        }
      ]
    },
    {
      "cell_type": "markdown",
      "source": [
        "> Classification Report"
      ],
      "metadata": {
        "id": "jIA9TeM_7oXI"
      }
    },
    {
      "cell_type": "code",
      "source": [
        "# Iterate through each model and display its classification report\n",
        "for model, pred in model_preds.items():\n",
        "    print(\"model : \", model)\n",
        "    print(classification_report(y_test, pred, zero_division=0))  # Display classification report for each model\n",
        "    print('----------------------------')"
      ],
      "metadata": {
        "id": "mX7ifdw67s7R",
        "colab": {
          "base_uri": "https://localhost:8080/"
        },
        "outputId": "dc55751c-6e6a-4c3b-867e-3f4389e3e123"
      },
      "execution_count": null,
      "outputs": [
        {
          "output_type": "stream",
          "name": "stdout",
          "text": [
            "model :  Logistic Regression\n",
            "              precision    recall  f1-score   support\n",
            "\n",
            "           0       0.90      1.00      0.95      8071\n",
            "           1       0.00      0.00      0.00       900\n",
            "\n",
            "    accuracy                           0.90      8971\n",
            "   macro avg       0.45      0.50      0.47      8971\n",
            "weighted avg       0.81      0.90      0.85      8971\n",
            "\n",
            "----------------------------\n",
            "model :  Support Vector Machine\n",
            "              precision    recall  f1-score   support\n",
            "\n",
            "           0       0.90      1.00      0.95      8071\n",
            "           1       0.00      0.00      0.00       900\n",
            "\n",
            "    accuracy                           0.90      8971\n",
            "   macro avg       0.45      0.50      0.47      8971\n",
            "weighted avg       0.81      0.90      0.85      8971\n",
            "\n",
            "----------------------------\n",
            "model :  Random Forest\n",
            "              precision    recall  f1-score   support\n",
            "\n",
            "           0       0.90      1.00      0.95      8071\n",
            "           1       1.00      0.02      0.04       900\n",
            "\n",
            "    accuracy                           0.90      8971\n",
            "   macro avg       0.95      0.51      0.49      8971\n",
            "weighted avg       0.91      0.90      0.86      8971\n",
            "\n",
            "----------------------------\n",
            "model :  K-Nearest Neighbors\n",
            "              precision    recall  f1-score   support\n",
            "\n",
            "           0       0.90      0.99      0.94      8071\n",
            "           1       0.17      0.01      0.03       900\n",
            "\n",
            "    accuracy                           0.89      8971\n",
            "   macro avg       0.53      0.50      0.49      8971\n",
            "weighted avg       0.83      0.89      0.85      8971\n",
            "\n",
            "----------------------------\n"
          ]
        }
      ]
    },
    {
      "cell_type": "markdown",
      "source": [
        ">The evaluation of the models shows that despite high accuracy, all models struggle to detect the minority class (class 1)."
      ],
      "metadata": {
        "id": "5S9SEi0r8kUH"
      }
    },
    {
      "cell_type": "markdown",
      "source": [
        "> Why is this happening ?\n",
        "\n",
        "* The dataset is highly imbalanced (8071 majority class vs. 900 minority class).\n",
        "\n",
        "* Most models are biased towards class 0, making them ineffective for detecting class 1.\n",
        "\n",
        "* Accuracy is misleading here (~90%) because it is mostly driven by correct class 0 predictions."
      ],
      "metadata": {
        "id": "y4TeaJmg9CgI"
      }
    },
    {
      "cell_type": "markdown",
      "source": [
        "> How to solve this issue ?\n",
        "\n",
        "> Answer : Below are some strategies we can try to solve such issues:"
      ],
      "metadata": {
        "id": "Z9DMI1FL9Slt"
      }
    },
    {
      "cell_type": "markdown",
      "source": [
        "1. Class Imbalance Handling:\n",
        "  * Resampling: Since it looks like the data might be imbalanced (a common issue in classification problems), try oversampling the minority class (positive class) or undersampling the majority class (negative class).\n",
        "    * Oversampling: Techniques like SMOTE (Synthetic Minority Over-sampling Technique) can generate synthetic samples for the minority class.\n",
        "    * Undersampling: Reduce the number of instances of the majority class to balance the dataset.\n",
        "  * Class Weights: Many algorithms, such as logistic regression, SVM, and random forests, have parameters to handle class weights. For example, you can assign a higher weight to the minority class to make the model pay more attention to it."
      ],
      "metadata": {
        "id": "3UO0WZnN_qeD"
      }
    },
    {
      "cell_type": "markdown",
      "source": [
        "2. Model Hyperparameter Tuning:\n",
        "* For models like Random Forest and SVM, adjusting hyperparameters can help improve the balance between precision and recall for each class.\n",
        "* For Random Forest, try tuning parameters like n_estimators, max_depth, and min_samples_split.\n",
        "* For SVM, you can experiment with the C parameter (which controls the trade-off between achieving a low error on the training set and a low-complexity model) and kernel choice."
      ],
      "metadata": {
        "id": "RmYRbIIP_tCM"
      }
    },
    {
      "cell_type": "markdown",
      "source": [
        "3. Try Different Algorithms:\n",
        "* Some models handle imbalanced data better than others. For instance, Gradient Boosting Machines (GBM) or XGBoost are generally more robust to imbalanced datasets. Try out different algorithms to see if they handle the imbalance better."
      ],
      "metadata": {
        "id": "TU-ExrgD_8hR"
      }
    },
    {
      "cell_type": "markdown",
      "source": [
        "4. Cross-validation:\n",
        "\n",
        "* Ensure you're using stratified k-fold cross-validation when evaluating the model to ensure that the proportion of positive and negative samples is similar across training and validation splits."
      ],
      "metadata": {
        "id": "Ai_OE91MAFXV"
      }
    },
    {
      "cell_type": "markdown",
      "source": [
        "# Part II"
      ],
      "metadata": {
        "id": "8aMzcj-NXZL9"
      }
    },
    {
      "cell_type": "markdown",
      "source": [
        "> This section of the workshop is for practice and should be completed after finishing Part I. The tasks are similar to those in Part I, but the dataset used here is different."
      ],
      "metadata": {
        "id": "-Cm67S-5Ny7t"
      }
    },
    {
      "cell_type": "markdown",
      "source": [
        "## Dataset 2 : *Workout Fitness Tracker*\n",
        "\n",
        "* About dataset\n",
        "\n",
        "> This dataset contains 10,000 records of workout and fitness-related data collected from various fitness apps and devices.\n",
        "\n",
        "> It is designed to help analyze and predict workout efficiency based on user activity, health metrics, and lifestyle factors.\n",
        "\n",
        "> Potential Use cases includes:\n",
        "\n",
        "1. Predicting Workout Efficiency based on different metrics.\n",
        "\n",
        "2. Analyzing the impact of sleep and nutrition on workout performance.\n",
        "\n",
        "3. Finding correlations between heart rate, workout type, and calories burned.\n",
        "\n",
        "4. Developing AI/ML models to suggest personalized workout plans.\n",
        "\n",
        "5. Tracking fitness habits and their effect on mood.\n",
        "\n",
        "> Dataset features\n",
        "\n",
        "1. *User ID*: Unique identifier for each user\n",
        "2. *Age*: User’s age (18-60 years)\n",
        "3. *Gender*: Male, Female, Other\n",
        "4. *Height (cm)*: User’s height in centimeters\n",
        "5. *Weight (kg)*: User’s weight in kilograms\n",
        "6. *Workout Type*: Type of workout (Cardio, Strength, Yoga, HIIT, Cycling, Running)\n",
        "7. *Workout Duration (mins)*: Total time spent in workout\n",
        "8. *Calories Burned*: Total calories burned during workout\n",
        "9. *Heart Rate (bpm)*: Average heart rate during the workout\n",
        "10. *Steps Taken*: Number of steps recorded (for walking/running workouts)\n",
        "11. *Distance (km)*: Distance covered in kilometers\n",
        "12. *Workout Intensity*: Low, Medium, High\n",
        "13. *Sleep Hours*: Hours of sleep before the workout\n",
        "14. *Water Intake (liters)*: Water consumed in liters\n",
        "15. *Daily Calories Intake*: Total calories consumed in a day\n",
        "16. *Resting Heart Rate (bpm)*: Heart rate when at rest\n",
        "17. *VO2 Max*: Oxygen consumption capacity (indicator of cardiovascular fitness)\n",
        "18. *Body Fat (%)*: Estimated body fat percentage\n",
        "19. *Mood Before Workout*: Mood before the workout (Happy, Neutral, Tired, Stressed)\n",
        "20. *Mood After Workout*: Mood after the workout (Energized, Neutral, Fatigued)"
      ],
      "metadata": {
        "id": "gzNS9ddxXQUe"
      }
    },
    {
      "cell_type": "markdown",
      "source": [
        "### 1. Load Dataset"
      ],
      "metadata": {
        "id": "2ZihlE3AOar7"
      }
    },
    {
      "cell_type": "code",
      "source": [
        "# Lod the dataset (CSV file)\n",
        "df2 = pd.read_csv(\"/content/drive/MyDrive/Big Data/Workshop_2/workout_fitness_tracker_data.csv\")"
      ],
      "metadata": {
        "id": "_QdRvyM9OfQF"
      },
      "execution_count": null,
      "outputs": []
    },
    {
      "cell_type": "markdown",
      "source": [
        "### 2. Data Analysis"
      ],
      "metadata": {
        "id": "EPsQN86oOf3d"
      }
    },
    {
      "cell_type": "code",
      "source": [
        "# Get column names of the DataFrame\n",
        "print(df2.columns.tolist())"
      ],
      "metadata": {
        "id": "iz8i6lcDPq33",
        "colab": {
          "base_uri": "https://localhost:8080/"
        },
        "outputId": "bfdd8196-9ba3-4e6d-898a-8381f5fcc88a"
      },
      "execution_count": null,
      "outputs": [
        {
          "output_type": "stream",
          "name": "stdout",
          "text": [
            "['User ID', 'Age', 'Gender', 'Height (cm)', 'Weight (kg)', 'Workout Type', 'Workout Duration (mins)', 'Calories Burned', 'Heart Rate (bpm)', 'Steps Taken', 'Distance (km)', 'Workout Intensity', 'Sleep Hours', 'Water Intake (liters)', 'Daily Calories Intake', 'Resting Heart Rate (bpm)', 'VO2 Max', 'Body Fat (%)', 'Mood Before Workout', 'Mood After Workout']\n"
          ]
        }
      ]
    },
    {
      "cell_type": "code",
      "source": [
        "# Check the shape of our dataset\n",
        "print(\"Dataset Shapes\", df2.shape)"
      ],
      "metadata": {
        "colab": {
          "base_uri": "https://localhost:8080/"
        },
        "id": "ZLf7XrG2qEws",
        "outputId": "ce2ba5e7-c06b-413a-f4c4-0d4d24cc17db"
      },
      "execution_count": null,
      "outputs": [
        {
          "output_type": "stream",
          "name": "stdout",
          "text": [
            "Dataset Shapes (10000, 20)\n"
          ]
        }
      ]
    },
    {
      "cell_type": "code",
      "source": [
        "print(df2.head())"
      ],
      "metadata": {
        "colab": {
          "base_uri": "https://localhost:8080/"
        },
        "id": "eSvBPBl6qNbK",
        "outputId": "e191aa68-37b0-4034-c921-97142b06f2a5"
      },
      "execution_count": null,
      "outputs": [
        {
          "output_type": "stream",
          "name": "stdout",
          "text": [
            "   User ID  Age  Gender  Height (cm)  Weight (kg) Workout Type  \\\n",
            "0        1   39    Male          175           99      Cycling   \n",
            "1        2   36   Other          157          112       Cardio   \n",
            "2        3   25  Female          180           66         HIIT   \n",
            "3        4   56    Male          154           89      Cycling   \n",
            "4        5   53   Other          194           59     Strength   \n",
            "\n",
            "   Workout Duration (mins)  Calories Burned  Heart Rate (bpm)  Steps Taken  \\\n",
            "0                       79              384               112         8850   \n",
            "1                       73              612               168         2821   \n",
            "2                       27              540               133        18898   \n",
            "3                       39              672               118        14102   \n",
            "4                       56              410               170        16518   \n",
            "\n",
            "   Distance (km) Workout Intensity  Sleep Hours  Water Intake (liters)  \\\n",
            "0          14.44              High          8.2                    1.9   \n",
            "1           1.10              High          8.6                    1.9   \n",
            "2           7.28              High          9.8                    1.9   \n",
            "3           6.55            Medium          5.8                    1.9   \n",
            "4           3.17            Medium          7.3                    1.9   \n",
            "\n",
            "   Daily Calories Intake  Resting Heart Rate (bpm)  VO2 Max  Body Fat (%)  \\\n",
            "0                   3195                        61     38.4          28.5   \n",
            "1                   2541                        73     38.4          28.5   \n",
            "2                   3362                        80     38.4          28.5   \n",
            "3                   2071                        65     38.4          28.5   \n",
            "4                   3298                        59     38.4          28.5   \n",
            "\n",
            "  Mood Before Workout Mood After Workout  \n",
            "0               Tired           Fatigued  \n",
            "1               Happy          Energized  \n",
            "2               Happy           Fatigued  \n",
            "3             Neutral            Neutral  \n",
            "4            Stressed          Energized  \n"
          ]
        }
      ]
    },
    {
      "cell_type": "code",
      "source": [
        "print(df2.sample(5))"
      ],
      "metadata": {
        "colab": {
          "base_uri": "https://localhost:8080/"
        },
        "id": "eue2t5cMqQvy",
        "outputId": "ecf574bb-3b5a-43bc-bbc0-c49f68057c58"
      },
      "execution_count": null,
      "outputs": [
        {
          "output_type": "stream",
          "name": "stdout",
          "text": [
            "      User ID  Age  Gender  Height (cm)  Weight (kg) Workout Type  \\\n",
            "5639     5640   30   Other          179           82      Running   \n",
            "2851     2852   19   Other          168           66       Cardio   \n",
            "8438     8439   23  Female          178           92       Cardio   \n",
            "6967     6968   55    Male          161          108         Yoga   \n",
            "1977     1978   45   Other          175           60         Yoga   \n",
            "\n",
            "      Workout Duration (mins)  Calories Burned  Heart Rate (bpm)  Steps Taken  \\\n",
            "5639                       44              434               109         3669   \n",
            "2851                       31              977               148         6063   \n",
            "8438                       72              423               120        12908   \n",
            "6967                      100              424               136         7794   \n",
            "1977                       76              825               163         1066   \n",
            "\n",
            "      Distance (km) Workout Intensity  Sleep Hours  Water Intake (liters)  \\\n",
            "5639          13.55               Low          5.1                    1.9   \n",
            "2851          10.65               Low          5.6                    1.9   \n",
            "8438           5.03               Low          4.1                    1.9   \n",
            "6967           1.75            Medium          7.0                    1.9   \n",
            "1977          12.60               Low          5.5                    1.9   \n",
            "\n",
            "      Daily Calories Intake  Resting Heart Rate (bpm)  VO2 Max  Body Fat (%)  \\\n",
            "5639                   3628                        51     38.4          28.5   \n",
            "2851                   3718                        72     38.4          28.5   \n",
            "8438                   1604                        55     38.4          28.5   \n",
            "6967                   3800                        55     38.4          28.5   \n",
            "1977                   2976                        61     38.4          28.5   \n",
            "\n",
            "     Mood Before Workout Mood After Workout  \n",
            "5639             Neutral          Energized  \n",
            "2851               Happy            Neutral  \n",
            "8438            Stressed          Energized  \n",
            "6967               Tired           Fatigued  \n",
            "1977            Stressed            Neutral  \n"
          ]
        }
      ]
    },
    {
      "cell_type": "code",
      "source": [
        "print(df2.dtypes)"
      ],
      "metadata": {
        "colab": {
          "base_uri": "https://localhost:8080/"
        },
        "id": "ovX8ncoMqTFk",
        "outputId": "4d5a1592-d71e-4f07-83ee-57ada8b75146"
      },
      "execution_count": null,
      "outputs": [
        {
          "output_type": "stream",
          "name": "stdout",
          "text": [
            "User ID                       int64\n",
            "Age                           int64\n",
            "Gender                       object\n",
            "Height (cm)                   int64\n",
            "Weight (kg)                   int64\n",
            "Workout Type                 object\n",
            "Workout Duration (mins)       int64\n",
            "Calories Burned               int64\n",
            "Heart Rate (bpm)              int64\n",
            "Steps Taken                   int64\n",
            "Distance (km)               float64\n",
            "Workout Intensity            object\n",
            "Sleep Hours                 float64\n",
            "Water Intake (liters)       float64\n",
            "Daily Calories Intake         int64\n",
            "Resting Heart Rate (bpm)      int64\n",
            "VO2 Max                     float64\n",
            "Body Fat (%)                float64\n",
            "Mood Before Workout          object\n",
            "Mood After Workout           object\n",
            "dtype: object\n"
          ]
        }
      ]
    },
    {
      "cell_type": "code",
      "source": [
        "num_cols = df2.select_dtypes(include=['int64', 'float64']).columns.tolist()\n",
        "cat_cols = df2.select_dtypes(include=['object']).columns.tolist()\n",
        "\n",
        "# Print results\n",
        "print(\"Numerical Columns:\", num_cols)\n",
        "print(\"Categorical Columns:\", cat_cols)"
      ],
      "metadata": {
        "colab": {
          "base_uri": "https://localhost:8080/"
        },
        "id": "Raxql2nLqU87",
        "outputId": "b28a1a32-d109-4504-9640-17e5f92f4753"
      },
      "execution_count": null,
      "outputs": [
        {
          "output_type": "stream",
          "name": "stdout",
          "text": [
            "Numerical Columns: ['User ID', 'Age', 'Height (cm)', 'Weight (kg)', 'Workout Duration (mins)', 'Calories Burned', 'Heart Rate (bpm)', 'Steps Taken', 'Distance (km)', 'Sleep Hours', 'Water Intake (liters)', 'Daily Calories Intake', 'Resting Heart Rate (bpm)', 'VO2 Max', 'Body Fat (%)']\n",
            "Categorical Columns: ['Gender', 'Workout Type', 'Workout Intensity', 'Mood Before Workout', 'Mood After Workout']\n"
          ]
        }
      ]
    },
    {
      "cell_type": "code",
      "source": [
        "print(\"Numerical columns : \", num_cols)\n",
        "print(\"Categorical columns : \", cat_cols)\n",
        "print(\"Number of numerical columns : \", len(num_cols))\n",
        "print(\"Number of categorcal columns : \", len(cat_cols))"
      ],
      "metadata": {
        "colab": {
          "base_uri": "https://localhost:8080/"
        },
        "id": "XiYmtQn-qdaK",
        "outputId": "44241fc7-4e3d-468a-ad92-40a7ecdb1f96"
      },
      "execution_count": null,
      "outputs": [
        {
          "output_type": "stream",
          "name": "stdout",
          "text": [
            "Numerical columns :  ['User ID', 'Age', 'Height (cm)', 'Weight (kg)', 'Workout Duration (mins)', 'Calories Burned', 'Heart Rate (bpm)', 'Steps Taken', 'Distance (km)', 'Sleep Hours', 'Water Intake (liters)', 'Daily Calories Intake', 'Resting Heart Rate (bpm)', 'VO2 Max', 'Body Fat (%)']\n",
            "Categorical columns :  ['Gender', 'Workout Type', 'Workout Intensity', 'Mood Before Workout', 'Mood After Workout']\n",
            "Number of numerical columns :  15\n",
            "Number of categorcal columns :  5\n"
          ]
        }
      ]
    },
    {
      "cell_type": "code",
      "source": [
        "# Print some statistical measurements of our numerical columns\n",
        "print(df2.describe())"
      ],
      "metadata": {
        "colab": {
          "base_uri": "https://localhost:8080/"
        },
        "id": "SlGGulfZqf1a",
        "outputId": "cc528de8-c024-4d2b-8604-873f1b92546f"
      },
      "execution_count": null,
      "outputs": [
        {
          "output_type": "stream",
          "name": "stdout",
          "text": [
            "           User ID           Age   Height (cm)   Weight (kg)  \\\n",
            "count  10000.00000  10000.000000  10000.000000  10000.000000   \n",
            "mean    5000.50000     38.390100    174.275100     84.903000   \n",
            "std     2886.89568     12.171637     14.440986     20.189937   \n",
            "min        1.00000     18.000000    150.000000     50.000000   \n",
            "25%     2500.75000     28.000000    162.000000     67.000000   \n",
            "50%     5000.50000     38.000000    174.000000     85.000000   \n",
            "75%     7500.25000     49.000000    187.000000    102.000000   \n",
            "max    10000.00000     59.000000    199.000000    119.000000   \n",
            "\n",
            "       Workout Duration (mins)  Calories Burned  Heart Rate (bpm)  \\\n",
            "count             10000.000000     10000.000000      10000.000000   \n",
            "mean                 64.464800       552.100800        129.526700   \n",
            "std                  31.814946       260.629908         28.874152   \n",
            "min                  10.000000       100.000000         80.000000   \n",
            "25%                  37.000000       325.000000        105.000000   \n",
            "50%                  64.000000       554.000000        130.000000   \n",
            "75%                  92.000000       776.000000        155.000000   \n",
            "max                 119.000000       999.000000        179.000000   \n",
            "\n",
            "        Steps Taken  Distance (km)   Sleep Hours  Water Intake (liters)  \\\n",
            "count  10000.000000   10000.000000  10000.000000           1.000000e+04   \n",
            "mean   10455.496600       7.820745      6.982820           1.900000e+00   \n",
            "std     5486.423716       4.159148      1.708738           2.109529e-14   \n",
            "min     1000.000000       0.500000      4.000000           1.900000e+00   \n",
            "25%     5673.000000       4.240000      5.500000           1.900000e+00   \n",
            "50%    10434.500000       7.850000      7.000000           1.900000e+00   \n",
            "75%    15211.000000      11.410000      8.400000           1.900000e+00   \n",
            "max    19998.000000      15.000000     10.000000           1.900000e+00   \n",
            "\n",
            "       Daily Calories Intake  Resting Heart Rate (bpm)       VO2 Max  \\\n",
            "count           10000.000000              10000.000000  1.000000e+04   \n",
            "mean             2748.428800                 69.486500  3.840000e+01   \n",
            "std               717.109026                 11.566763  4.590336e-12   \n",
            "min              1500.000000                 50.000000  3.840000e+01   \n",
            "25%              2124.000000                 60.000000  3.840000e+01   \n",
            "50%              2753.000000                 69.000000  3.840000e+01   \n",
            "75%              3360.000000                 80.000000  3.840000e+01   \n",
            "max              3999.000000                 89.000000  3.840000e+01   \n",
            "\n",
            "       Body Fat (%)  \n",
            "count       10000.0  \n",
            "mean           28.5  \n",
            "std             0.0  \n",
            "min            28.5  \n",
            "25%            28.5  \n",
            "50%            28.5  \n",
            "75%            28.5  \n",
            "max            28.5  \n"
          ]
        }
      ]
    },
    {
      "cell_type": "code",
      "source": [
        "# Count the occurrences of each unique value in the 'Gender' column of the DataFrame 'df2'\n",
        "df2['Gender'].value_counts()"
      ],
      "metadata": {
        "colab": {
          "base_uri": "https://localhost:8080/",
          "height": 209
        },
        "id": "OY4KmHq4qvNK",
        "outputId": "40502f6c-cc46-4601-e651-42c3b099897e"
      },
      "execution_count": null,
      "outputs": [
        {
          "output_type": "execute_result",
          "data": {
            "text/plain": [
              "Gender\n",
              "Other     3392\n",
              "Male      3370\n",
              "Female    3238\n",
              "Name: count, dtype: int64"
            ],
            "text/html": [
              "<div>\n",
              "<style scoped>\n",
              "    .dataframe tbody tr th:only-of-type {\n",
              "        vertical-align: middle;\n",
              "    }\n",
              "\n",
              "    .dataframe tbody tr th {\n",
              "        vertical-align: top;\n",
              "    }\n",
              "\n",
              "    .dataframe thead th {\n",
              "        text-align: right;\n",
              "    }\n",
              "</style>\n",
              "<table border=\"1\" class=\"dataframe\">\n",
              "  <thead>\n",
              "    <tr style=\"text-align: right;\">\n",
              "      <th></th>\n",
              "      <th>count</th>\n",
              "    </tr>\n",
              "    <tr>\n",
              "      <th>Gender</th>\n",
              "      <th></th>\n",
              "    </tr>\n",
              "  </thead>\n",
              "  <tbody>\n",
              "    <tr>\n",
              "      <th>Other</th>\n",
              "      <td>3392</td>\n",
              "    </tr>\n",
              "    <tr>\n",
              "      <th>Male</th>\n",
              "      <td>3370</td>\n",
              "    </tr>\n",
              "    <tr>\n",
              "      <th>Female</th>\n",
              "      <td>3238</td>\n",
              "    </tr>\n",
              "  </tbody>\n",
              "</table>\n",
              "</div><br><label><b>dtype:</b> int64</label>"
            ]
          },
          "metadata": {},
          "execution_count": 20
        }
      ]
    },
    {
      "cell_type": "code",
      "source": [
        "# Count the occurrences of each unique value in the 'Workout Type' column of the DataFrame 'df2'\n",
        "df2['Workout Type'].value_counts()"
      ],
      "metadata": {
        "colab": {
          "base_uri": "https://localhost:8080/",
          "height": 303
        },
        "id": "paIZWW1Bq1bi",
        "outputId": "9ebd1b67-3288-43b3-d36d-a38d4bfd7694"
      },
      "execution_count": null,
      "outputs": [
        {
          "output_type": "execute_result",
          "data": {
            "text/plain": [
              "Workout Type\n",
              "HIIT        1731\n",
              "Strength    1667\n",
              "Yoga        1666\n",
              "Cycling     1656\n",
              "Cardio      1645\n",
              "Running     1635\n",
              "Name: count, dtype: int64"
            ],
            "text/html": [
              "<div>\n",
              "<style scoped>\n",
              "    .dataframe tbody tr th:only-of-type {\n",
              "        vertical-align: middle;\n",
              "    }\n",
              "\n",
              "    .dataframe tbody tr th {\n",
              "        vertical-align: top;\n",
              "    }\n",
              "\n",
              "    .dataframe thead th {\n",
              "        text-align: right;\n",
              "    }\n",
              "</style>\n",
              "<table border=\"1\" class=\"dataframe\">\n",
              "  <thead>\n",
              "    <tr style=\"text-align: right;\">\n",
              "      <th></th>\n",
              "      <th>count</th>\n",
              "    </tr>\n",
              "    <tr>\n",
              "      <th>Workout Type</th>\n",
              "      <th></th>\n",
              "    </tr>\n",
              "  </thead>\n",
              "  <tbody>\n",
              "    <tr>\n",
              "      <th>HIIT</th>\n",
              "      <td>1731</td>\n",
              "    </tr>\n",
              "    <tr>\n",
              "      <th>Strength</th>\n",
              "      <td>1667</td>\n",
              "    </tr>\n",
              "    <tr>\n",
              "      <th>Yoga</th>\n",
              "      <td>1666</td>\n",
              "    </tr>\n",
              "    <tr>\n",
              "      <th>Cycling</th>\n",
              "      <td>1656</td>\n",
              "    </tr>\n",
              "    <tr>\n",
              "      <th>Cardio</th>\n",
              "      <td>1645</td>\n",
              "    </tr>\n",
              "    <tr>\n",
              "      <th>Running</th>\n",
              "      <td>1635</td>\n",
              "    </tr>\n",
              "  </tbody>\n",
              "</table>\n",
              "</div><br><label><b>dtype:</b> int64</label>"
            ]
          },
          "metadata": {},
          "execution_count": 21
        }
      ]
    },
    {
      "cell_type": "code",
      "source": [
        "# Count the occurrences of each unique value in the 'Workout Intensity' column of the DataFrame 'df2'\n",
        "df2['Workout Intensity'].value_counts()"
      ],
      "metadata": {
        "colab": {
          "base_uri": "https://localhost:8080/",
          "height": 209
        },
        "id": "SeCxHktorBm0",
        "outputId": "d3032c22-bc30-4462-c37b-59c42ee7f06d"
      },
      "execution_count": null,
      "outputs": [
        {
          "output_type": "execute_result",
          "data": {
            "text/plain": [
              "Workout Intensity\n",
              "Low       3357\n",
              "Medium    3323\n",
              "High      3320\n",
              "Name: count, dtype: int64"
            ],
            "text/html": [
              "<div>\n",
              "<style scoped>\n",
              "    .dataframe tbody tr th:only-of-type {\n",
              "        vertical-align: middle;\n",
              "    }\n",
              "\n",
              "    .dataframe tbody tr th {\n",
              "        vertical-align: top;\n",
              "    }\n",
              "\n",
              "    .dataframe thead th {\n",
              "        text-align: right;\n",
              "    }\n",
              "</style>\n",
              "<table border=\"1\" class=\"dataframe\">\n",
              "  <thead>\n",
              "    <tr style=\"text-align: right;\">\n",
              "      <th></th>\n",
              "      <th>count</th>\n",
              "    </tr>\n",
              "    <tr>\n",
              "      <th>Workout Intensity</th>\n",
              "      <th></th>\n",
              "    </tr>\n",
              "  </thead>\n",
              "  <tbody>\n",
              "    <tr>\n",
              "      <th>Low</th>\n",
              "      <td>3357</td>\n",
              "    </tr>\n",
              "    <tr>\n",
              "      <th>Medium</th>\n",
              "      <td>3323</td>\n",
              "    </tr>\n",
              "    <tr>\n",
              "      <th>High</th>\n",
              "      <td>3320</td>\n",
              "    </tr>\n",
              "  </tbody>\n",
              "</table>\n",
              "</div><br><label><b>dtype:</b> int64</label>"
            ]
          },
          "metadata": {},
          "execution_count": 22
        }
      ]
    },
    {
      "cell_type": "code",
      "source": [
        "# Count the occurrences of each unique value in the 'Mood Before Workout' column of the DataFrame 'df2'\n",
        "df2['Mood Before Workout'].value_counts()"
      ],
      "metadata": {
        "colab": {
          "base_uri": "https://localhost:8080/",
          "height": 241
        },
        "id": "6NZRqOv2rOFS",
        "outputId": "86a8b373-e5a6-4b20-a3b2-12116229fb67"
      },
      "execution_count": null,
      "outputs": [
        {
          "output_type": "execute_result",
          "data": {
            "text/plain": [
              "Mood Before Workout\n",
              "Tired       2553\n",
              "Happy       2511\n",
              "Neutral     2511\n",
              "Stressed    2425\n",
              "Name: count, dtype: int64"
            ],
            "text/html": [
              "<div>\n",
              "<style scoped>\n",
              "    .dataframe tbody tr th:only-of-type {\n",
              "        vertical-align: middle;\n",
              "    }\n",
              "\n",
              "    .dataframe tbody tr th {\n",
              "        vertical-align: top;\n",
              "    }\n",
              "\n",
              "    .dataframe thead th {\n",
              "        text-align: right;\n",
              "    }\n",
              "</style>\n",
              "<table border=\"1\" class=\"dataframe\">\n",
              "  <thead>\n",
              "    <tr style=\"text-align: right;\">\n",
              "      <th></th>\n",
              "      <th>count</th>\n",
              "    </tr>\n",
              "    <tr>\n",
              "      <th>Mood Before Workout</th>\n",
              "      <th></th>\n",
              "    </tr>\n",
              "  </thead>\n",
              "  <tbody>\n",
              "    <tr>\n",
              "      <th>Tired</th>\n",
              "      <td>2553</td>\n",
              "    </tr>\n",
              "    <tr>\n",
              "      <th>Happy</th>\n",
              "      <td>2511</td>\n",
              "    </tr>\n",
              "    <tr>\n",
              "      <th>Neutral</th>\n",
              "      <td>2511</td>\n",
              "    </tr>\n",
              "    <tr>\n",
              "      <th>Stressed</th>\n",
              "      <td>2425</td>\n",
              "    </tr>\n",
              "  </tbody>\n",
              "</table>\n",
              "</div><br><label><b>dtype:</b> int64</label>"
            ]
          },
          "metadata": {},
          "execution_count": 23
        }
      ]
    },
    {
      "cell_type": "code",
      "source": [
        "# Count the occurrences of each unique value in the 'Mood After Workout' column of the DataFrame 'df2'\n",
        "df2['Mood After Workout'].value_counts()"
      ],
      "metadata": {
        "colab": {
          "base_uri": "https://localhost:8080/",
          "height": 209
        },
        "id": "O0eEhgfXrQ-K",
        "outputId": "cbaf56de-8cfe-4d94-8a42-c225726f1cb0"
      },
      "execution_count": null,
      "outputs": [
        {
          "output_type": "execute_result",
          "data": {
            "text/plain": [
              "Mood After Workout\n",
              "Neutral      3356\n",
              "Energized    3323\n",
              "Fatigued     3321\n",
              "Name: count, dtype: int64"
            ],
            "text/html": [
              "<div>\n",
              "<style scoped>\n",
              "    .dataframe tbody tr th:only-of-type {\n",
              "        vertical-align: middle;\n",
              "    }\n",
              "\n",
              "    .dataframe tbody tr th {\n",
              "        vertical-align: top;\n",
              "    }\n",
              "\n",
              "    .dataframe thead th {\n",
              "        text-align: right;\n",
              "    }\n",
              "</style>\n",
              "<table border=\"1\" class=\"dataframe\">\n",
              "  <thead>\n",
              "    <tr style=\"text-align: right;\">\n",
              "      <th></th>\n",
              "      <th>count</th>\n",
              "    </tr>\n",
              "    <tr>\n",
              "      <th>Mood After Workout</th>\n",
              "      <th></th>\n",
              "    </tr>\n",
              "  </thead>\n",
              "  <tbody>\n",
              "    <tr>\n",
              "      <th>Neutral</th>\n",
              "      <td>3356</td>\n",
              "    </tr>\n",
              "    <tr>\n",
              "      <th>Energized</th>\n",
              "      <td>3323</td>\n",
              "    </tr>\n",
              "    <tr>\n",
              "      <th>Fatigued</th>\n",
              "      <td>3321</td>\n",
              "    </tr>\n",
              "  </tbody>\n",
              "</table>\n",
              "</div><br><label><b>dtype:</b> int64</label>"
            ]
          },
          "metadata": {},
          "execution_count": 24
        }
      ]
    },
    {
      "cell_type": "markdown",
      "source": [
        "### 3. CLeaning Data"
      ],
      "metadata": {
        "id": "lUP-JCtROke8"
      }
    },
    {
      "cell_type": "code",
      "source": [
        "# Remove \"User ID\" as it's just an identifier\n",
        "df2.drop(columns=[\"User ID\"], inplace=True)\n",
        "\n",
        "# Remove \"VO2 Max\" as it has a constant value (38.4)\n",
        "df2.drop(columns=[\"VO2 Max\"], inplace=True)\n",
        "\n",
        "# Remove \"Body Fat (%)\" as it has a constant value (28.5%)\n",
        "df2.drop(columns=[\"Body Fat (%)\"], inplace=True)\n",
        "\n",
        "# Remove \"Water Intake (liters)\" if it's confirmed to have a constant value (1.9 liters)\n",
        "df2.drop(columns=[\"Water Intake (liters)\"], inplace=True)"
      ],
      "metadata": {
        "id": "rUllWw8UOq8b"
      },
      "execution_count": null,
      "outputs": []
    },
    {
      "cell_type": "code",
      "source": [
        "print(df2.columns)"
      ],
      "metadata": {
        "colab": {
          "base_uri": "https://localhost:8080/"
        },
        "id": "Di1W2D2Y69Ti",
        "outputId": "e5b0ce66-3623-4371-f4b9-0b6f97b508ea"
      },
      "execution_count": null,
      "outputs": [
        {
          "output_type": "stream",
          "name": "stdout",
          "text": [
            "Index(['Age', 'Gender', 'Height (cm)', 'Weight (kg)', 'Workout Type',\n",
            "       'Workout Duration (mins)', 'Calories Burned', 'Heart Rate (bpm)',\n",
            "       'Steps Taken', 'Distance (km)', 'Workout Intensity', 'Sleep Hours',\n",
            "       'Daily Calories Intake', 'Resting Heart Rate (bpm)',\n",
            "       'Mood Before Workout', 'Mood After Workout'],\n",
            "      dtype='object')\n"
          ]
        }
      ]
    },
    {
      "cell_type": "code",
      "source": [
        "# check for duplicate data\n",
        "num_duplicates = df2.duplicated().sum()\n",
        "print(\"Number of duplicated rows:\", num_duplicates)"
      ],
      "metadata": {
        "colab": {
          "base_uri": "https://localhost:8080/"
        },
        "id": "BrR6JM3p7s6Q",
        "outputId": "ba43c1d9-3c37-4fbb-d6bb-22380bde51f0"
      },
      "execution_count": null,
      "outputs": [
        {
          "output_type": "stream",
          "name": "stdout",
          "text": [
            "Number of duplicated rows: 0\n"
          ]
        }
      ]
    },
    {
      "cell_type": "markdown",
      "source": [
        "Since, there are no any duplicated rows, we don't need to perform the drop duplicate rows."
      ],
      "metadata": {
        "id": "mMy96-_S8Kuj"
      }
    },
    {
      "cell_type": "code",
      "source": [
        "# Check for null data\n",
        "null_counts = df2.isnull().sum()\n",
        "\n",
        "# Print the count of null values for each column\n",
        "print(\"Null value counts per column:\")\n",
        "print(null_counts)"
      ],
      "metadata": {
        "colab": {
          "base_uri": "https://localhost:8080/"
        },
        "id": "8gPhrZp972im",
        "outputId": "5e86619c-9cfc-48d5-8ef6-1588ea1b8661"
      },
      "execution_count": null,
      "outputs": [
        {
          "output_type": "stream",
          "name": "stdout",
          "text": [
            "Null value counts per column:\n",
            "Age                         0\n",
            "Gender                      0\n",
            "Height (cm)                 0\n",
            "Weight (kg)                 0\n",
            "Workout Type                0\n",
            "Workout Duration (mins)     0\n",
            "Calories Burned             0\n",
            "Heart Rate (bpm)            0\n",
            "Steps Taken                 0\n",
            "Distance (km)               0\n",
            "Workout Intensity           0\n",
            "Sleep Hours                 0\n",
            "Daily Calories Intake       0\n",
            "Resting Heart Rate (bpm)    0\n",
            "Mood Before Workout         0\n",
            "Mood After Workout          0\n",
            "dtype: int64\n"
          ]
        }
      ]
    },
    {
      "cell_type": "markdown",
      "source": [
        "Since, there are no any null values, we don't need to  need to handle them accordingly."
      ],
      "metadata": {
        "id": "0didJR1b8YnC"
      }
    },
    {
      "cell_type": "markdown",
      "source": [
        "**Using the IQR method to detect outliers.**"
      ],
      "metadata": {
        "id": "nLpCFoKu80Sf"
      }
    },
    {
      "cell_type": "code",
      "source": [
        "# List of numerical columns (excluding removed ones)\n",
        "num_cols = [\n",
        "    \"Age\", \"Height (cm)\", \"Weight (kg)\", \"Workout Duration (mins)\", \"Calories Burned\",\n",
        "    \"Heart Rate (bpm)\", \"Steps Taken\", \"Distance (km)\", \"Daily Calories Intake\",\n",
        "    \"Resting Heart Rate (bpm)\", \"Sleep Hours\"\n",
        "]\n",
        "\n",
        "# Function to detect outliers using IQR\n",
        "def detect_outliers_iqr(df, columns):\n",
        "    outliers = {}\n",
        "    for col in columns:\n",
        "        Q1 = df[col].quantile(0.25)  # First quartile (25%)\n",
        "        Q3 = df[col].quantile(0.75)  # Third quartile (75%)\n",
        "        IQR = Q3 - Q1  # Interquartile range\n",
        "        lower_bound = Q1 - 1.5 * IQR\n",
        "        upper_bound = Q3 + 1.5 * IQR\n",
        "        outlier_count = ((df[col] < lower_bound) | (df[col] > upper_bound)).sum()\n",
        "        outliers[col] = outlier_count\n",
        "    return outliers\n",
        "\n",
        "# Detect outliers in the workout fitness tracker dataset\n",
        "outliers_iqr = detect_outliers_iqr(df2, columns=num_cols)\n",
        "\n",
        "# Print number of outliers in each numerical column\n",
        "print(\"Outliers detected using IQR method:\")\n",
        "for col, count in outliers_iqr.items():\n",
        "    print(f\"{col}: {count} outliers\")\n"
      ],
      "metadata": {
        "colab": {
          "base_uri": "https://localhost:8080/"
        },
        "id": "cVmPXq6W8was",
        "outputId": "bbe3202f-ba19-4395-f1f8-3564cf6e68c1"
      },
      "execution_count": null,
      "outputs": [
        {
          "output_type": "stream",
          "name": "stdout",
          "text": [
            "Outliers detected using IQR method:\n",
            "Age: 0 outliers\n",
            "Height (cm): 0 outliers\n",
            "Weight (kg): 0 outliers\n",
            "Workout Duration (mins): 0 outliers\n",
            "Calories Burned: 0 outliers\n",
            "Heart Rate (bpm): 0 outliers\n",
            "Steps Taken: 0 outliers\n",
            "Distance (km): 0 outliers\n",
            "Daily Calories Intake: 0 outliers\n",
            "Resting Heart Rate (bpm): 0 outliers\n",
            "Sleep Hours: 0 outliers\n"
          ]
        }
      ]
    },
    {
      "cell_type": "markdown",
      "source": [
        "Since there are no any outliers, we don't need to handle them."
      ],
      "metadata": {
        "id": "836n0s27-WeN"
      }
    },
    {
      "cell_type": "markdown",
      "source": [
        "### 4. Data Visualisation"
      ],
      "metadata": {
        "id": "3HUAYk-1Orln"
      }
    },
    {
      "cell_type": "markdown",
      "source": [
        "**Histogram for Age**"
      ],
      "metadata": {
        "id": "t5dFVdIsIMuy"
      }
    },
    {
      "cell_type": "code",
      "source": [
        "# Histogram for Age\n",
        "plt.hist(df2['Age'], bins=10, color='skyblue', edgecolor='black')\n",
        "plt.title('Distribution of Age')\n",
        "plt.xlabel('Age')\n",
        "plt.ylabel('Frequency')\n",
        "plt.show()"
      ],
      "metadata": {
        "id": "qZNnCf7FOunE",
        "colab": {
          "base_uri": "https://localhost:8080/",
          "height": 480
        },
        "outputId": "172d2253-f350-4785-9ca9-776193b3b9ab"
      },
      "execution_count": null,
      "outputs": [
        {
          "output_type": "display_data",
          "data": {
            "text/plain": [
              "<Figure size 640x480 with 1 Axes>"
            ],
            "image/png": "[encoded data removed]"
          },
          "metadata": {}
        }
      ]
    },
    {
      "cell_type": "markdown",
      "source": [
        "What is the most common age range (peak of the histogram) ?\n",
        "\n",
        "Answer: The most common age ranges (peaks of the histogram) are around 20 years old and 60 years old, both with a frequency of approximately 1200."
      ],
      "metadata": {
        "id": "xdRg6mVqDe2g"
      }
    },
    {
      "cell_type": "markdown",
      "source": [
        "** Bar plot for Gender**"
      ],
      "metadata": {
        "id": "aWGhlc_2IJ2x"
      }
    },
    {
      "cell_type": "code",
      "source": [
        "# Bar plot for Gender\n",
        "gender_counts = df2['Gender'].value_counts()\n",
        "plt.bar(gender_counts.index, gender_counts.values, color=['skyblue', 'salmon', 'lightgreen'])\n",
        "plt.title('Gender Distribution')\n",
        "plt.xlabel('Gender')\n",
        "plt.ylabel('Count')\n",
        "plt.show()"
      ],
      "metadata": {
        "colab": {
          "base_uri": "https://localhost:8080/",
          "height": 480
        },
        "id": "uIP9cXg6Dmnq",
        "outputId": "fd12f8a8-80fc-4453-dfbf-c921631cc198"
      },
      "execution_count": null,
      "outputs": [
        {
          "output_type": "display_data",
          "data": {
            "text/plain": [
              "<Figure size 640x480 with 1 Axes>"
            ],
            "image/png": "[encoded data removed]"
          },
          "metadata": {}
        }
      ]
    },
    {
      "cell_type": "markdown",
      "source": [
        "Which gender has the highest count?\n",
        "\n",
        "Answer: The gender \"Other\" has the highest count."
      ],
      "metadata": {
        "id": "nq_cIlOaElSS"
      }
    },
    {
      "cell_type": "markdown",
      "source": [
        "Is the distribution balanced, or is there a significant difference between genders?\n",
        "\n",
        "Answer: The distribution is relatively balanced, with no significant difference between the counts for each gender. However, \"Other\" has a slightly higher count compared to \"Male\" and \"Female.\""
      ],
      "metadata": {
        "id": "Ynbgid6IErR5"
      }
    },
    {
      "cell_type": "markdown",
      "source": [
        "**Box Plot of Heart Rate (bpm)**\n"
      ],
      "metadata": {
        "id": "Eaj_wSOHIBSJ"
      }
    },
    {
      "cell_type": "code",
      "source": [
        "# Box plot for Heart Rate\n",
        "plt.figure(figsize=(8, 6))  # Adjust figure size\n",
        "sns.boxplot(x=df2['Heart Rate (bpm)'], color='lightgreen')  # Color of the box\n",
        "plt.title('Box Plot for Heart Rate')\n",
        "plt.xlabel('Heart Rate (bpm)')\n",
        "plt.show()"
      ],
      "metadata": {
        "colab": {
          "base_uri": "https://localhost:8080/",
          "height": 573
        },
        "id": "OL4dsK2kFxQp",
        "outputId": "2d649272-66ae-4a44-fe62-1b03530bf02d"
      },
      "execution_count": null,
      "outputs": [
        {
          "output_type": "display_data",
          "data": {
            "text/plain": [
              "<Figure size 800x600 with 1 Axes>"
            ],
            "image/png": "[encoded data removed]"
          },
          "metadata": {}
        }
      ]
    },
    {
      "cell_type": "markdown",
      "source": [
        "What is the median value (the middle line in the box)?\n",
        "\n",
        "Answer: The median value is 130 bpm, as indicated by the middle line in the box.\n"
      ],
      "metadata": {
        "id": "SHAEn59jGyQb"
      }
    },
    {
      "cell_type": "markdown",
      "source": [
        "What is the interquartile range (IQR) (distance between Q1 and Q3)?\n",
        "\n",
        "Answer: Answer: The IQR is 60 bpm, calculated as Q3 (160 bpm) minus Q1 (100 bpm)."
      ],
      "metadata": {
        "id": "j_9C61g5G0OL"
      }
    },
    {
      "cell_type": "markdown",
      "source": [
        "Are there any outliers (points outside the whiskers)?\n",
        "\n",
        "Answer: There are no outliers visible in the box plot.\n"
      ],
      "metadata": {
        "id": "Rwi8m7e_G3ky"
      }
    },
    {
      "cell_type": "markdown",
      "source": [
        "**Scatter Plot for Heart Rate vs. Calories Burned**"
      ],
      "metadata": {
        "id": "7byn6AuuIO_j"
      }
    },
    {
      "cell_type": "code",
      "source": [
        "# Randomly sample 1000 rows from the DataFrame 'df2' and store it in 'df_sampled'\n",
        "df_sampled = df2.sample(1000)\n",
        "\n",
        "# Set the figure size for the plot\n",
        "plt.figure(figsize=(10, 8))\n",
        "\n",
        "# Create a regression plot (scatter plot with a trend line) for 'Heart Rate (bpm)' vs 'Calories Burned'\n",
        "# scatter_kws controls the transparency of the scatter points, and line_kws sets the color of the trend line\n",
        "sns.regplot(x=df_sampled['Heart Rate (bpm)'], y=df_sampled['Calories Burned'], scatter_kws={'alpha':0.5}, line_kws={'color':'red'})\n",
        "\n",
        "# Set the title of the plot\n",
        "plt.title('Scatter Plot of Heart Rate vs. Calories Burned with Trend Line')\n",
        "\n",
        "# Set the labels for the x and y axes\n",
        "plt.xlabel('Heart Rate (bpm)')\n",
        "plt.ylabel('Calories Burned')\n",
        "\n",
        "# Enable grid lines on the plot\n",
        "plt.grid(True)\n",
        "\n",
        "# Display the plot\n",
        "plt.show()\n"
      ],
      "metadata": {
        "colab": {
          "base_uri": "https://localhost:8080/",
          "height": 727
        },
        "id": "oG_vHlvcJO05",
        "outputId": "0a618a09-6935-451e-98ca-62bb06fd910c"
      },
      "execution_count": null,
      "outputs": [
        {
          "output_type": "display_data",
          "data": {
            "text/plain": [
              "<Figure size 1000x800 with 1 Axes>"
            ],
            "image/png": "[encoded data removed]"
          },
          "metadata": {}
        }
      ]
    },
    {
      "cell_type": "markdown",
      "source": [
        "Does the scatter plot confirm a strong positive correlation between Heart Rate vs. Calories Burned?\n",
        "\n",
        "Answer: No, the scatter plot does not confirm a strong positive correlation. The data points are scattered, and the red trend line is flat, showing a weak correlation."
      ],
      "metadata": {
        "id": "wSQtrqsnLxbm"
      }
    },
    {
      "cell_type": "markdown",
      "source": [
        "Is the red trend line steep or gradual? What does that indicate about how weight affects Heart Rate (bpm)?\n",
        "\n",
        "Answer: The red trend line is gradual, indicating a minimal relationship. If referring to Heart Rate's effect on Calories Burned, it suggests that Heart Rate has little influence."
      ],
      "metadata": {
        "id": "8Fq7kPX8LzNM"
      }
    },
    {
      "cell_type": "markdown",
      "source": [
        "**Pie Chart for Workout Type**"
      ],
      "metadata": {
        "id": "sGyG7bR2MqYm"
      }
    },
    {
      "cell_type": "code",
      "source": [
        "# Get the count of each workout type\n",
        "workout_type_counts = df2['Workout Type'].value_counts()\n",
        "\n",
        "# Plot the pie chart\n",
        "plt.figure(figsize=(8, 8))\n",
        "plt.pie(workout_type_counts, labels=workout_type_counts.index, autopct='%1.1f%%', colors=['skyblue', 'lightgreen', 'lightcoral', 'gold', 'purple', 'orange'])\n",
        "plt.title('Distribution of Workout Types')\n",
        "plt.show()"
      ],
      "metadata": {
        "colab": {
          "base_uri": "https://localhost:8080/",
          "height": 675
        },
        "id": "L0U9ylEPMnEj",
        "outputId": "02921f9d-f216-42f6-978c-4159e7605010"
      },
      "execution_count": null,
      "outputs": [
        {
          "output_type": "display_data",
          "data": {
            "text/plain": [
              "<Figure size 800x800 with 1 Axes>"
            ],
            "image/png": "[encoded data removed]"
          },
          "metadata": {}
        }
      ]
    },
    {
      "cell_type": "markdown",
      "source": [
        "Which workout type is the most common among users?\n",
        "\n",
        "Answer: The most common workout type is HIIT, with 17.3%."
      ],
      "metadata": {
        "id": "oAzrJqd_N2Cd"
      }
    },
    {
      "cell_type": "markdown",
      "source": [
        "Which workout type is the least common among users?\n",
        "\n",
        "Answer: The least common workout type is Running, with 16.3%"
      ],
      "metadata": {
        "id": "e3Jw1iZ3N3T8"
      }
    },
    {
      "cell_type": "markdown",
      "source": [
        "### 5. Data Preparation"
      ],
      "metadata": {
        "id": "HMVUBWK8O2Vb"
      }
    },
    {
      "cell_type": "code",
      "source": [
        "# check for categorical columns to convert it into numerical form for model building\n",
        "cat_cols"
      ],
      "metadata": {
        "id": "UHrqv8G4O6Zr",
        "colab": {
          "base_uri": "https://localhost:8080/"
        },
        "outputId": "b72ae91c-9a4c-488b-93b6-12c96da96c37"
      },
      "execution_count": null,
      "outputs": [
        {
          "output_type": "execute_result",
          "data": {
            "text/plain": [
              "['Gender',\n",
              " 'Workout Type',\n",
              " 'Workout Intensity',\n",
              " 'Mood Before Workout',\n",
              " 'Mood After Workout']"
            ]
          },
          "metadata": {},
          "execution_count": 39
        }
      ]
    },
    {
      "cell_type": "code",
      "source": [
        "from sklearn.preprocessing import LabelEncoder\n",
        "\n",
        "# Initialize LabelEncoder\n",
        "label_encoder = LabelEncoder()\n",
        "\n",
        "# Encode 'Gender' column\n",
        "print(\"Gender dtype before encoding:\", df2['Gender'].dtypes)\n",
        "df2['Gender'] = label_encoder.fit_transform(df2['Gender'])\n",
        "print(\"Gender dtype after encoding:\", df2['Gender'].dtypes)\n",
        "\n",
        "# Encode 'Workout Type' column\n",
        "print(\"Workout Type dtype before encoding:\", df2['Workout Type'].dtypes)\n",
        "df2['Workout Type'] = label_encoder.fit_transform(df2['Workout Type'])\n",
        "print(\"Workout Type dtype after encoding:\", df2['Workout Type'].dtypes)\n",
        "\n",
        "# Encode 'Workout Intensity' column\n",
        "print(\"Workout Intensity dtype before encoding:\", df2['Workout Intensity'].dtypes)\n",
        "df2['Workout Intensity'] = label_encoder.fit_transform(df2['Workout Intensity'])\n",
        "print(\"Workout Intensity dtype after encoding:\", df2['Workout Intensity'].dtypes)\n",
        "\n",
        "# Encode 'Mood Before Workout' column\n",
        "print(\"Mood Before Workout dtype before encoding:\", df2['Mood Before Workout'].dtypes)\n",
        "df2['Mood Before Workout'] = label_encoder.fit_transform(df2['Mood Before Workout'])\n",
        "print(\"Mood Before Workout dtype after encoding:\", df2['Mood Before Workout'].dtypes)\n",
        "\n",
        "# Encode 'Mood After Workout' column\n",
        "print(\"Mood After Workout dtype before encoding:\", df2['Mood After Workout'].dtypes)\n",
        "df2['Mood After Workout'] = label_encoder.fit_transform(df2['Mood After Workout'])\n",
        "print(\"Mood After Workout dtype after encoding:\", df2['Mood After Workout'].dtypes)\n"
      ],
      "metadata": {
        "colab": {
          "base_uri": "https://localhost:8080/"
        },
        "id": "KSIqZ-dkOtzP",
        "outputId": "7bb6499d-5806-44e7-99da-5ced00a9da55"
      },
      "execution_count": null,
      "outputs": [
        {
          "output_type": "stream",
          "name": "stdout",
          "text": [
            "Gender dtype before encoding: object\n",
            "Gender dtype after encoding: int64\n",
            "Workout Type dtype before encoding: object\n",
            "Workout Type dtype after encoding: int64\n",
            "Workout Intensity dtype before encoding: object\n",
            "Workout Intensity dtype after encoding: int64\n",
            "Mood Before Workout dtype before encoding: object\n",
            "Mood Before Workout dtype after encoding: int64\n",
            "Mood After Workout dtype before encoding: object\n",
            "Mood After Workout dtype after encoding: int64\n"
          ]
        }
      ]
    },
    {
      "cell_type": "code",
      "source": [
        "from sklearn.preprocessing import StandardScaler\n",
        "\n",
        "# Initialize StandardScaler\n",
        "scaler = StandardScaler()\n",
        "\n",
        "# List of numerical features to scale\n",
        "numerical_features = [\n",
        "    'Age',\n",
        "    'Height (cm)',\n",
        "    'Weight (kg)',\n",
        "    'Workout Duration (mins)',\n",
        "    'Calories Burned',\n",
        "    'Heart Rate (bpm)',\n",
        "    'Steps Taken',\n",
        "    'Distance (km)',\n",
        "    'Sleep Hours',\n",
        "    'Daily Calories Intake',\n",
        "    'Resting Heart Rate (bpm)'\n",
        "]\n",
        "\n",
        "# Apply StandardScaler to the specified columns in df2\n",
        "df2[numerical_features] = scaler.fit_transform(df2[numerical_features])\n",
        "\n",
        "# Display the first few rows of the scaled DataFrame\n",
        "df2.head()"
      ],
      "metadata": {
        "colab": {
          "base_uri": "https://localhost:8080/",
          "height": 241
        },
        "id": "m0gNkxiiRp4C",
        "outputId": "5ac17f8a-2e0d-46b5-eeaf-53d016dd9c95"
      },
      "execution_count": null,
      "outputs": [
        {
          "output_type": "execute_result",
          "data": {
            "text/plain": [
              "        Age  Gender  Height (cm)  Weight (kg)  Workout Type  \\\n",
              "0  0.050111       1     0.050200     0.698254             1   \n",
              "1 -0.196376       2    -1.196315     1.342171             0   \n",
              "2 -1.100162       0     0.396454    -0.936305             2   \n",
              "3  1.446870       1    -1.404067     0.202933             1   \n",
              "4  1.200383       2     1.365965    -1.283030             4   \n",
              "\n",
              "   Workout Duration (mins)  Calories Burned  Heart Rate (bpm)  Steps Taken  \\\n",
              "0                 0.456890        -0.645011         -0.607033    -0.292645   \n",
              "1                 0.268290         0.229836          1.332514    -1.391595   \n",
              "2                -1.177644        -0.046431          0.120297     1.538876   \n",
              "3                -0.800444         0.460059         -0.399225     0.664674   \n",
              "4                -0.266077        -0.545248          1.401784     1.105056   \n",
              "\n",
              "   Distance (km)  Workout Intensity  Sleep Hours  Daily Calories Intake  \\\n",
              "0       1.591573                  0     0.712363               0.622769   \n",
              "1      -1.615976                  0     0.946465              -0.289271   \n",
              "2      -0.130020                  0     1.648773               0.855661   \n",
              "3      -0.305545                  2    -0.692253              -0.944714   \n",
              "4      -1.118253                  2     0.185632               0.766409   \n",
              "\n",
              "   Resting Heart Rate (bpm)  Mood Before Workout  Mood After Workout  \n",
              "0                 -0.733734                    3                   1  \n",
              "1                  0.303773                    0                   0  \n",
              "2                  0.908986                    0                   1  \n",
              "3                 -0.387898                    1                   2  \n",
              "4                 -0.906652                    2                   0  "
            ],
            "text/html": [
              "\n",
              "  <div id=\"df-e4136ea2-d7e3-4b3a-8d1b-c6b9d2a7b2d5\" class=\"colab-df-container\">\n",
              "    <div>\n",
              "<style scoped>\n",
              "    .dataframe tbody tr th:only-of-type {\n",
              "        vertical-align: middle;\n",
              "    }\n",
              "\n",
              "    .dataframe tbody tr th {\n",
              "        vertical-align: top;\n",
              "    }\n",
              "\n",
              "    .dataframe thead th {\n",
              "        text-align: right;\n",
              "    }\n",
              "</style>\n",
              "<table border=\"1\" class=\"dataframe\">\n",
              "  <thead>\n",
              "    <tr style=\"text-align: right;\">\n",
              "      <th></th>\n",
              "      <th>Age</th>\n",
              "      <th>Gender</th>\n",
              "      <th>Height (cm)</th>\n",
              "      <th>Weight (kg)</th>\n",
              "      <th>Workout Type</th>\n",
              "      <th>Workout Duration (mins)</th>\n",
              "      <th>Calories Burned</th>\n",
              "      <th>Heart Rate (bpm)</th>\n",
              "      <th>Steps Taken</th>\n",
              "      <th>Distance (km)</th>\n",
              "      <th>Workout Intensity</th>\n",
              "      <th>Sleep Hours</th>\n",
              "      <th>Daily Calories Intake</th>\n",
              "      <th>Resting Heart Rate (bpm)</th>\n",
              "      <th>Mood Before Workout</th>\n",
              "      <th>Mood After Workout</th>\n",
              "    </tr>\n",
              "  </thead>\n",
              "  <tbody>\n",
              "    <tr>\n",
              "      <th>0</th>\n",
              "      <td>0.050111</td>\n",
              "      <td>1</td>\n",
              "      <td>0.050200</td>\n",
              "      <td>0.698254</td>\n",
              "      <td>1</td>\n",
              "      <td>0.456890</td>\n",
              "      <td>-0.645011</td>\n",
              "      <td>-0.607033</td>\n",
              "      <td>-0.292645</td>\n",
              "      <td>1.591573</td>\n",
              "      <td>0</td>\n",
              "      <td>0.712363</td>\n",
              "      <td>0.622769</td>\n",
              "      <td>-0.733734</td>\n",
              "      <td>3</td>\n",
              "      <td>1</td>\n",
              "    </tr>\n",
              "    <tr>\n",
              "      <th>1</th>\n",
              "      <td>-0.196376</td>\n",
              "      <td>2</td>\n",
              "      <td>-1.196315</td>\n",
              "      <td>1.342171</td>\n",
              "      <td>0</td>\n",
              "      <td>0.268290</td>\n",
              "      <td>0.229836</td>\n",
              "      <td>1.332514</td>\n",
              "      <td>-1.391595</td>\n",
              "      <td>-1.615976</td>\n",
              "      <td>0</td>\n",
              "      <td>0.946465</td>\n",
              "      <td>-0.289271</td>\n",
              "      <td>0.303773</td>\n",
              "      <td>0</td>\n",
              "      <td>0</td>\n",
              "    </tr>\n",
              "    <tr>\n",
              "      <th>2</th>\n",
              "      <td>-1.100162</td>\n",
              "      <td>0</td>\n",
              "      <td>0.396454</td>\n",
              "      <td>-0.936305</td>\n",
              "      <td>2</td>\n",
              "      <td>-1.177644</td>\n",
              "      <td>-0.046431</td>\n",
              "      <td>0.120297</td>\n",
              "      <td>1.538876</td>\n",
              "      <td>-0.130020</td>\n",
              "      <td>0</td>\n",
              "      <td>1.648773</td>\n",
              "      <td>0.855661</td>\n",
              "      <td>0.908986</td>\n",
              "      <td>0</td>\n",
              "      <td>1</td>\n",
              "    </tr>\n",
              "    <tr>\n",
              "      <th>3</th>\n",
              "      <td>1.446870</td>\n",
              "      <td>1</td>\n",
              "      <td>-1.404067</td>\n",
              "      <td>0.202933</td>\n",
              "      <td>1</td>\n",
              "      <td>-0.800444</td>\n",
              "      <td>0.460059</td>\n",
              "      <td>-0.399225</td>\n",
              "      <td>0.664674</td>\n",
              "      <td>-0.305545</td>\n",
              "      <td>2</td>\n",
              "      <td>-0.692253</td>\n",
              "      <td>-0.944714</td>\n",
              "      <td>-0.387898</td>\n",
              "      <td>1</td>\n",
              "      <td>2</td>\n",
              "    </tr>\n",
              "    <tr>\n",
              "      <th>4</th>\n",
              "      <td>1.200383</td>\n",
              "      <td>2</td>\n",
              "      <td>1.365965</td>\n",
              "      <td>-1.283030</td>\n",
              "      <td>4</td>\n",
              "      <td>-0.266077</td>\n",
              "      <td>-0.545248</td>\n",
              "      <td>1.401784</td>\n",
              "      <td>1.105056</td>\n",
              "      <td>-1.118253</td>\n",
              "      <td>2</td>\n",
              "      <td>0.185632</td>\n",
              "      <td>0.766409</td>\n",
              "      <td>-0.906652</td>\n",
              "      <td>2</td>\n",
              "      <td>0</td>\n",
              "    </tr>\n",
              "  </tbody>\n",
              "</table>\n",
              "</div>\n",
              "    <div class=\"colab-df-buttons\">\n",
              "\n",
              "  <div class=\"colab-df-container\">\n",
              "    <button class=\"colab-df-convert\" onclick=\"convertToInteractive('df-e4136ea2-d7e3-4b3a-8d1b-c6b9d2a7b2d5')\"\n",
              "            title=\"Convert this dataframe to an interactive table.\"\n",
              "            style=\"display:none;\">\n",
              "\n",
              "  <svg xmlns=\"http://www.w3.org/2000/svg\" height=\"24px\" viewBox=\"0 -960 960 960\">\n",
              "    <path d=\"M120-120v-720h720v720H120Zm60-500h600v-160H180v160Zm220 220h160v-160H400v160Zm0 220h160v-160H400v160ZM180-400h160v-160H180v160Zm440 0h160v-160H620v160ZM180-180h160v-160H180v160Zm440 0h160v-160H620v160Z\"/>\n",
              "  </svg>\n",
              "    </button>\n",
              "\n",
              "  <style>\n",
              "    .colab-df-container {\n",
              "      display:flex;\n",
              "      gap: 12px;\n",
              "    }\n",
              "\n",
              "    .colab-df-convert {\n",
              "      background-color: #E8F0FE;\n",
              "      border: none;\n",
              "      border-radius: 50%;\n",
              "      cursor: pointer;\n",
              "      display: none;\n",
              "      fill: #1967D2;\n",
              "      height: 32px;\n",
              "      padding: 0 0 0 0;\n",
              "      width: 32px;\n",
              "    }\n",
              "\n",
              "    .colab-df-convert:hover {\n",
              "      background-color: #E2EBFA;\n",
              "      box-shadow: 0px 1px 2px rgba(60, 64, 67, 0.3), 0px 1px 3px 1px rgba(60, 64, 67, 0.15);\n",
              "      fill: #174EA6;\n",
              "    }\n",
              "\n",
              "    .colab-df-buttons div {\n",
              "      margin-bottom: 4px;\n",
              "    }\n",
              "\n",
              "    [theme=dark] .colab-df-convert {\n",
              "      background-color: #3B4455;\n",
              "      fill: #D2E3FC;\n",
              "    }\n",
              "\n",
              "    [theme=dark] .colab-df-convert:hover {\n",
              "      background-color: #434B5C;\n",
              "      box-shadow: 0px 1px 3px 1px rgba(0, 0, 0, 0.15);\n",
              "      filter: drop-shadow(0px 1px 2px rgba(0, 0, 0, 0.3));\n",
              "      fill: #FFFFFF;\n",
              "    }\n",
              "  </style>\n",
              "\n",
              "    <script>\n",
              "      const buttonEl =\n",
              "        document.querySelector('#df-e4136ea2-d7e3-4b3a-8d1b-c6b9d2a7b2d5 button.colab-df-convert');\n",
              "      buttonEl.style.display =\n",
              "        google.colab.kernel.accessAllowed ? 'block' : 'none';\n",
              "\n",
              "      async function convertToInteractive(key) {\n",
              "        const element = document.querySelector('#df-e4136ea2-d7e3-4b3a-8d1b-c6b9d2a7b2d5');\n",
              "        const dataTable =\n",
              "          await google.colab.kernel.invokeFunction('convertToInteractive',\n",
              "                                                    [key], {});\n",
              "        if (!dataTable) return;\n",
              "\n",
              "        const docLinkHtml = 'Like what you see? Visit the ' +\n",
              "          '<a target=\"_blank\" href=https://colab.research.google.com/notebooks/data_table.ipynb>data table notebook</a>'\n",
              "          + ' to learn more about interactive tables.';\n",
              "        element.innerHTML = '';\n",
              "        dataTable['output_type'] = 'display_data';\n",
              "        await google.colab.output.renderOutput(dataTable, element);\n",
              "        const docLink = document.createElement('div');\n",
              "        docLink.innerHTML = docLinkHtml;\n",
              "        element.appendChild(docLink);\n",
              "      }\n",
              "    </script>\n",
              "  </div>\n",
              "\n",
              "\n",
              "<div id=\"df-fc6e3393-ac08-4dc6-a4fa-37eff1a67a01\">\n",
              "  <button class=\"colab-df-quickchart\" onclick=\"quickchart('df-fc6e3393-ac08-4dc6-a4fa-37eff1a67a01')\"\n",
              "            title=\"Suggest charts\"\n",
              "            style=\"display:none;\">\n",
              "\n",
              "<svg xmlns=\"http://www.w3.org/2000/svg\" height=\"24px\"viewBox=\"0 0 24 24\"\n",
              "     width=\"24px\">\n",
              "    <g>\n",
              "        <path d=\"M19 3H5c-1.1 0-2 .9-2 2v14c0 1.1.9 2 2 2h14c1.1 0 2-.9 2-2V5c0-1.1-.9-2-2-2zM9 17H7v-7h2v7zm4 0h-2V7h2v10zm4 0h-2v-4h2v4z\"/>\n",
              "    </g>\n",
              "</svg>\n",
              "  </button>\n",
              "\n",
              "<style>\n",
              "  .colab-df-quickchart {\n",
              "      --bg-color: #E8F0FE;\n",
              "      --fill-color: #1967D2;\n",
              "      --hover-bg-color: #E2EBFA;\n",
              "      --hover-fill-color: #174EA6;\n",
              "      --disabled-fill-color: #AAA;\n",
              "      --disabled-bg-color: #DDD;\n",
              "  }\n",
              "\n",
              "  [theme=dark] .colab-df-quickchart {\n",
              "      --bg-color: #3B4455;\n",
              "      --fill-color: #D2E3FC;\n",
              "      --hover-bg-color: #434B5C;\n",
              "      --hover-fill-color: #FFFFFF;\n",
              "      --disabled-bg-color: #3B4455;\n",
              "      --disabled-fill-color: #666;\n",
              "  }\n",
              "\n",
              "  .colab-df-quickchart {\n",
              "    background-color: var(--bg-color);\n",
              "    border: none;\n",
              "    border-radius: 50%;\n",
              "    cursor: pointer;\n",
              "    display: none;\n",
              "    fill: var(--fill-color);\n",
              "    height: 32px;\n",
              "    padding: 0;\n",
              "    width: 32px;\n",
              "  }\n",
              "\n",
              "  .colab-df-quickchart:hover {\n",
              "    background-color: var(--hover-bg-color);\n",
              "    box-shadow: 0 1px 2px rgba(60, 64, 67, 0.3), 0 1px 3px 1px rgba(60, 64, 67, 0.15);\n",
              "    fill: var(--button-hover-fill-color);\n",
              "  }\n",
              "\n",
              "  .colab-df-quickchart-complete:disabled,\n",
              "  .colab-df-quickchart-complete:disabled:hover {\n",
              "    background-color: var(--disabled-bg-color);\n",
              "    fill: var(--disabled-fill-color);\n",
              "    box-shadow: none;\n",
              "  }\n",
              "\n",
              "  .colab-df-spinner {\n",
              "    border: 2px solid var(--fill-color);\n",
              "    border-color: transparent;\n",
              "    border-bottom-color: var(--fill-color);\n",
              "    animation:\n",
              "      spin 1s steps(1) infinite;\n",
              "  }\n",
              "\n",
              "  @keyframes spin {\n",
              "    0% {\n",
              "      border-color: transparent;\n",
              "      border-bottom-color: var(--fill-color);\n",
              "      border-left-color: var(--fill-color);\n",
              "    }\n",
              "    20% {\n",
              "      border-color: transparent;\n",
              "      border-left-color: var(--fill-color);\n",
              "      border-top-color: var(--fill-color);\n",
              "    }\n",
              "    30% {\n",
              "      border-color: transparent;\n",
              "      border-left-color: var(--fill-color);\n",
              "      border-top-color: var(--fill-color);\n",
              "      border-right-color: var(--fill-color);\n",
              "    }\n",
              "    40% {\n",
              "      border-color: transparent;\n",
              "      border-right-color: var(--fill-color);\n",
              "      border-top-color: var(--fill-color);\n",
              "    }\n",
              "    60% {\n",
              "      border-color: transparent;\n",
              "      border-right-color: var(--fill-color);\n",
              "    }\n",
              "    80% {\n",
              "      border-color: transparent;\n",
              "      border-right-color: var(--fill-color);\n",
              "      border-bottom-color: var(--fill-color);\n",
              "    }\n",
              "    90% {\n",
              "      border-color: transparent;\n",
              "      border-bottom-color: var(--fill-color);\n",
              "    }\n",
              "  }\n",
              "</style>\n",
              "\n",
              "  <script>\n",
              "    async function quickchart(key) {\n",
              "      const quickchartButtonEl =\n",
              "        document.querySelector('#' + key + ' button');\n",
              "      quickchartButtonEl.disabled = true;  // To prevent multiple clicks.\n",
              "      quickchartButtonEl.classList.add('colab-df-spinner');\n",
              "      try {\n",
              "        const charts = await google.colab.kernel.invokeFunction(\n",
              "            'suggestCharts', [key], {});\n",
              "      } catch (error) {\n",
              "        console.error('Error during call to suggestCharts:', error);\n",
              "      }\n",
              "      quickchartButtonEl.classList.remove('colab-df-spinner');\n",
              "      quickchartButtonEl.classList.add('colab-df-quickchart-complete');\n",
              "    }\n",
              "    (() => {\n",
              "      let quickchartButtonEl =\n",
              "        document.querySelector('#df-fc6e3393-ac08-4dc6-a4fa-37eff1a67a01 button');\n",
              "      quickchartButtonEl.style.display =\n",
              "        google.colab.kernel.accessAllowed ? 'block' : 'none';\n",
              "    })();\n",
              "  </script>\n",
              "</div>\n",
              "\n",
              "    </div>\n",
              "  </div>\n"
            ],
            "application/vnd.google.colaboratory.intrinsic+json": {
              "type": "dataframe",
              "variable_name": "df2",
              "summary": "{\n  \"name\": \"df2\",\n  \"rows\": 10000,\n  \"fields\": [\n    {\n      \"column\": \"Age\",\n      \"properties\": {\n        \"dtype\": \"number\",\n        \"std\": 1.0000500037503082,\n        \"min\": -1.6752980964618887,\n        \"max\": 1.693357376288978,\n        \"num_unique_values\": 42,\n        \"samples\": [\n          -0.2785385101993342,\n          -1.6752980964618887,\n          -0.11421385299197485\n        ],\n        \"semantic_type\": \"\",\n        \"description\": \"\"\n      }\n    },\n    {\n      \"column\": \"Gender\",\n      \"properties\": {\n        \"dtype\": \"number\",\n        \"std\": 0,\n        \"min\": 0,\n        \"max\": 2,\n        \"num_unique_values\": 3,\n        \"samples\": [\n          1,\n          2,\n          0\n        ],\n        \"semantic_type\": \"\",\n        \"description\": \"\"\n      }\n    },\n    {\n      \"column\": \"Height (cm)\",\n      \"properties\": {\n        \"dtype\": \"number\",\n        \"std\": 1.000050003750319,\n        \"min\": -1.681070391517523,\n        \"max\": 1.712219406850294,\n        \"num_unique_values\": 50,\n        \"samples\": [\n          -0.01905089843940851,\n          0.6734572236764725,\n          0.11945072598376769\n        ],\n        \"semantic_type\": \"\",\n        \"description\": \"\"\n      }\n    },\n    {\n      \"column\": \"Weight (kg)\",\n      \"properties\": {\n        \"dtype\": \"number\",\n        \"std\": 1.0000500037503182,\n        \"min\": -1.728818933612626,\n        \"max\": 1.6888960599200553,\n        \"num_unique_values\": 70,\n        \"samples\": [\n          -0.29238799430178897,\n          0.6982540328091332,\n          0.7973182355202254\n        ],\n        \"semantic_type\": \"\",\n        \"description\": \"\"\n      }\n    },\n    {\n      \"column\": \"Workout Type\",\n      \"properties\": {\n        \"dtype\": \"number\",\n        \"std\": 1,\n        \"min\": 0,\n        \"max\": 5,\n        \"num_unique_values\": 6,\n        \"samples\": [\n          1,\n          0,\n          3\n        ],\n        \"semantic_type\": \"\",\n        \"description\": \"\"\n      }\n    },\n    {\n      \"column\": \"Workout Duration (mins)\",\n      \"properties\": {\n        \"dtype\": \"number\",\n        \"std\": 1.0000500037503084,\n        \"min\": -1.7120105652522457,\n        \"max\": 1.7142234723737952,\n        \"num_unique_values\": 110,\n        \"samples\": [\n          0.9912566570949058,\n          -1.051910429562825,\n          -0.26607693469446697\n        ],\n        \"semantic_type\": \"\",\n        \"description\": \"\"\n      }\n    },\n    {\n      \"column\": \"Calories Burned\",\n      \"properties\": {\n        \"dtype\": \"number\",\n        \"std\": 1.000050003750312,\n        \"min\": -1.7347334025114245,\n        \"max\": 1.7147746029107522,\n        \"num_unique_values\": 900,\n        \"samples\": [\n          0.5406372840462517,\n          -1.3663765965931498,\n          -0.4569957319824091\n        ],\n        \"semantic_type\": \"\",\n        \"description\": \"\"\n      }\n    },\n    {\n      \"column\": \"Heart Rate (bpm)\",\n      \"properties\": {\n        \"dtype\": \"number\",\n        \"std\": 1.0000500037503097,\n        \"min\": -1.7153465275979363,\n        \"max\": 1.7134970301637493,\n        \"num_unique_values\": 100,\n        \"samples\": [\n          -0.15678127406989736,\n          -0.36458997454030256,\n          0.9861665785173311\n        ],\n        \"semantic_type\": \"\",\n        \"description\": \"\"\n      }\n    },\n    {\n      \"column\": \"Steps Taken\",\n      \"properties\": {\n        \"dtype\": \"number\",\n        \"std\": 1.0000500037503135,\n        \"min\": -1.7235215325177213,\n        \"max\": 1.7393808892093054,\n        \"num_unique_values\": 7767,\n        \"samples\": [\n          -0.6078027345710358,\n          0.6212924875420993,\n          0.27277846341629264\n        ],\n        \"semantic_type\": \"\",\n        \"description\": \"\"\n      }\n    },\n    {\n      \"column\": \"Distance (km)\",\n      \"properties\": {\n        \"dtype\": \"number\",\n        \"std\": 1.0000500037503113,\n        \"min\": -1.7602431426103589,\n        \"max\": 1.726222451786141,\n        \"num_unique_values\": 1449,\n        \"samples\": [\n          0.5239929364770032,\n          0.5408241496913312,\n          1.3607446791321631\n        ],\n        \"semantic_type\": \"\",\n        \"description\": \"\"\n      }\n    },\n    {\n      \"column\": \"Workout Intensity\",\n      \"properties\": {\n        \"dtype\": \"number\",\n        \"std\": 0,\n        \"min\": 0,\n        \"max\": 2,\n        \"num_unique_values\": 3,\n        \"samples\": [\n          0,\n          2,\n          1\n        ],\n        \"semantic_type\": \"\",\n        \"description\": \"\"\n      }\n    },\n    {\n      \"column\": \"Sleep Hours\",\n      \"properties\": {\n        \"dtype\": \"number\",\n        \"std\": 1.0000500037503182,\n        \"min\": -1.7457149799024756,\n        \"max\": 1.7658243953916608,\n        \"num_unique_values\": 61,\n        \"samples\": [\n          0.7123625828034195,\n          -1.628663667392671,\n          -0.9263557923338436\n        ],\n        \"semantic_type\": \"\",\n        \"description\": \"\"\n      }\n    },\n    {\n      \"column\": \"Daily Calories Intake\",\n      \"properties\": {\n        \"dtype\": \"number\",\n        \"std\": 1.0000500037503148,\n        \"min\": -1.7410061511033796,\n        \"max\": 1.7439938517861284,\n        \"num_unique_values\": 2445,\n        \"samples\": [\n          -1.043727238960621,\n          -1.127400708417752,\n          0.12770133343921378\n        ],\n        \"semantic_type\": \"\",\n        \"description\": \"\"\n      }\n    },\n    {\n      \"column\": \"Resting Heart Rate (bpm)\",\n      \"properties\": {\n        \"dtype\": \"number\",\n        \"std\": 1.000050003750306,\n        \"min\": -1.684782085833681,\n        \"max\": 1.6871164771465124,\n        \"num_unique_values\": 40,\n        \"samples\": [\n          0.8225271020233859,\n          1.0819039145603238,\n          -0.8201927107105546\n        ],\n        \"semantic_type\": \"\",\n        \"description\": \"\"\n      }\n    },\n    {\n      \"column\": \"Mood Before Workout\",\n      \"properties\": {\n        \"dtype\": \"number\",\n        \"std\": 1,\n        \"min\": 0,\n        \"max\": 3,\n        \"num_unique_values\": 4,\n        \"samples\": [\n          0,\n          2,\n          3\n        ],\n        \"semantic_type\": \"\",\n        \"description\": \"\"\n      }\n    },\n    {\n      \"column\": \"Mood After Workout\",\n      \"properties\": {\n        \"dtype\": \"number\",\n        \"std\": 0,\n        \"min\": 0,\n        \"max\": 2,\n        \"num_unique_values\": 3,\n        \"samples\": [\n          1,\n          0,\n          2\n        ],\n        \"semantic_type\": \"\",\n        \"description\": \"\"\n      }\n    }\n  ]\n}"
            }
          },
          "metadata": {},
          "execution_count": 42
        }
      ]
    },
    {
      "cell_type": "markdown",
      "source": [
        "### 6. Model Building"
      ],
      "metadata": {
        "id": "6XfjXDcdO9jI"
      }
    },
    {
      "cell_type": "markdown",
      "source": [
        "**Splitting our features and target**"
      ],
      "metadata": {
        "id": "Grkc6RgHeJ21"
      }
    },
    {
      "cell_type": "code",
      "source": [
        "# Define features (X) and target variable (y)\n",
        "X = df2.drop(columns=['Calories Burned'])  # Drop the target column from features\n",
        "y = df2['Calories Burned']  # Target variable"
      ],
      "metadata": {
        "id": "rCbmcZ1lPCPw"
      },
      "execution_count": null,
      "outputs": []
    },
    {
      "cell_type": "markdown",
      "source": [
        "**Split data into training and testing set**"
      ],
      "metadata": {
        "id": "Ds2hhTzTeXM0"
      }
    },
    {
      "cell_type": "code",
      "source": [
        "# Import train_test_split\n",
        "from sklearn.model_selection import train_test_split\n",
        "\n",
        "# Splitting the dataset into 80% training and 20% testing\n",
        "X_train, X_test, y_train, y_test = train_test_split(X, y, test_size=0.2, random_state=42)\n",
        "\n",
        "# Print the shape of the resulting datasets\n",
        "print(f\"X_train shape: {X_train.shape}\")\n",
        "print(f\"X_test shape: {X_test.shape}\")\n",
        "print(f\"y_train shape: {y_train.shape}\")\n",
        "print(f\"y_test shape: {y_test.shape}\")\n"
      ],
      "metadata": {
        "colab": {
          "base_uri": "https://localhost:8080/"
        },
        "id": "Etsf77JdeaJD",
        "outputId": "6bae29d8-f263-4daa-dd78-e1843c51ee1a"
      },
      "execution_count": null,
      "outputs": [
        {
          "output_type": "stream",
          "name": "stdout",
          "text": [
            "X_train shape: (8000, 15)\n",
            "X_test shape: (2000, 15)\n",
            "y_train shape: (8000,)\n",
            "y_test shape: (2000,)\n"
          ]
        }
      ]
    },
    {
      "cell_type": "markdown",
      "source": [
        "**Model Training**"
      ],
      "metadata": {
        "id": "rpppiYYAfHXE"
      }
    },
    {
      "cell_type": "code",
      "source": [
        "# Import Necessary Libraries for Model Building\n",
        "from sklearn.model_selection import train_test_split\n",
        "from sklearn.metrics import mean_squared_error, r2_score\n",
        "from sklearn.ensemble import RandomForestRegressor\n",
        "from sklearn.neighbors import KNeighborsRegressor\n",
        "from sklearn.linear_model import LinearRegression"
      ],
      "metadata": {
        "id": "4niobl__fI_8"
      },
      "execution_count": null,
      "outputs": []
    },
    {
      "cell_type": "code",
      "source": [
        "# Define features (X) and target variable (y)\n",
        "X = df2.drop(columns=['Calories Burned'])  # Features\n",
        "y = df2['Calories Burned']  # Target variable\n",
        "\n",
        "# Split dataset into training (80%) and testing (20%)\n",
        "X_train, X_test, y_train, y_test = train_test_split(X, y, test_size=0.2, random_state=42)\n",
        "\n",
        "#  LINEAR REGRESSION\n",
        "lr_model = LinearRegression()  # Initialize Linear Regression model\n",
        "lr_model.fit(X_train, y_train)  # Train model\n",
        "y_pred_lr = lr_model.predict(X_test)  # Predict\n",
        "\n",
        "# Evaluate Linear Regression\n",
        "mse_lr = mean_squared_error(y_test, y_pred_lr)\n",
        "r2_lr = r2_score(y_test, y_pred_lr)\n",
        "print(f\"Linear Regression - MSE: {mse_lr}, R²: {r2_lr}\")\n",
        "\n",
        "#  RANDOM FOREST REGRESSOR\n",
        "rf_model = RandomForestRegressor(n_estimators=100, random_state=42)  # Initialize Random Forest model\n",
        "rf_model.fit(X_train, y_train)  # Train model\n",
        "y_pred_rf = rf_model.predict(X_test)  # Predict\n",
        "\n",
        "# Evaluate Random Forest\n",
        "mse_rf = mean_squared_error(y_test, y_pred_rf)\n",
        "r2_rf = r2_score(y_test, y_pred_rf)\n",
        "print(f\"Random Forest - MSE: {mse_rf}, R²: {r2_rf}\")\n",
        "\n",
        "#  K-NEAREST NEIGHBORS REGRESSOR\n",
        "knn_model = KNeighborsRegressor(n_neighbors=5)  # Initialize KNN model\n",
        "knn_model.fit(X_train, y_train)  # Train model\n",
        "y_pred_knn = knn_model.predict(X_test)  # Predict\n",
        "\n",
        "# Evaluate KNN\n",
        "mse_knn = mean_squared_error(y_test, y_pred_knn)\n",
        "r2_knn = r2_score(y_test, y_pred_knn)\n",
        "print(f\"KNN - MSE: {mse_knn}, R²: {r2_knn}\")"
      ],
      "metadata": {
        "colab": {
          "base_uri": "https://localhost:8080/"
        },
        "id": "S3lzFxTQfSuM",
        "outputId": "c5e086bc-36d5-4c84-e94f-f3b52c53b3d6"
      },
      "execution_count": null,
      "outputs": [
        {
          "output_type": "stream",
          "name": "stdout",
          "text": [
            "Linear Regression - MSE: 1.015261084516611, R²: -0.004772122871758766\n",
            "Random Forest - MSE: 1.0333922350331561, R²: -0.022715955125794718\n",
            "KNN - MSE: 1.2185072458431, R²: -0.20591848817225133\n"
          ]
        }
      ]
    },
    {
      "cell_type": "markdown",
      "source": [
        "### 7. Model Evaluation"
      ],
      "metadata": {
        "id": "YjH6b-jTPEaf"
      }
    },
    {
      "cell_type": "markdown",
      "source": [
        "Evaluate regression models using metrics like Mean Squared Error (MSE), R² score, Mean Absolute Error (MAE), and Root Mean Squared Error (RMSE)."
      ],
      "metadata": {
        "id": "Z9T9G7Yvir_D"
      }
    },
    {
      "cell_type": "code",
      "source": [
        "from sklearn.metrics import mean_squared_error, r2_score, mean_absolute_error\n",
        "import numpy as np\n",
        "\n",
        "# Store predictions from different models in a dictionary, including Linear Regression\n",
        "model_preds = {\n",
        "    \"Random Forest\": y_pred_rf,\n",
        "    \"K-Nearest Neighbors\": y_pred_knn,\n",
        "    \"Linear Regression\": y_pred_lr  # Adding Linear Regression predictions\n",
        "}\n",
        "\n",
        "# Iterate through each model and evaluate using MSE, R², MAE, and RMSE\n",
        "for model, pred in model_preds.items():\n",
        "    print(f\"Model: {model}\")\n",
        "\n",
        "    # Calculate performance metrics\n",
        "    mse = mean_squared_error(y_test, pred)\n",
        "    r2 = r2_score(y_test, pred)\n",
        "    mae = mean_absolute_error(y_test, pred)\n",
        "    rmse = np.sqrt(mse)\n",
        "\n",
        "    # Print results for each model\n",
        "    print(f\"Mean Squared Error (MSE): {mse}\")\n",
        "    print(f\"R² Score: {r2}\")\n",
        "    print(f\"Mean Absolute Error (MAE): {mae}\")\n",
        "    print(f\"Root Mean Squared Error (RMSE): {rmse}\")\n",
        "    print('----------------------------')\n"
      ],
      "metadata": {
        "id": "5jVkS1ULPIH3",
        "colab": {
          "base_uri": "https://localhost:8080/"
        },
        "outputId": "f9dc6928-9575-4f29-ba8f-0d87be1d40d2"
      },
      "execution_count": null,
      "outputs": [
        {
          "output_type": "stream",
          "name": "stdout",
          "text": [
            "Model: Random Forest\n",
            "Mean Squared Error (MSE): 1.0333922350331561\n",
            "R² Score: -0.022715955125794718\n",
            "Mean Absolute Error (MAE): 0.8761444712734918\n",
            "Root Mean Squared Error (RMSE): 1.0165590169946632\n",
            "----------------------------\n",
            "Model: K-Nearest Neighbors\n",
            "Mean Squared Error (MSE): 1.2185072458431\n",
            "R² Score: -0.20591848817225133\n",
            "Mean Absolute Error (MAE): 0.9352414309112345\n",
            "Root Mean Squared Error (RMSE): 1.1038601568328754\n",
            "----------------------------\n",
            "Model: Linear Regression\n",
            "Mean Squared Error (MSE): 1.015261084516611\n",
            "R² Score: -0.004772122871758766\n",
            "Mean Absolute Error (MAE): 0.8745797944807119\n",
            "Root Mean Squared Error (RMSE): 1.0076016497190796\n",
            "----------------------------\n"
          ]
        }
      ]
    }
  ]
}